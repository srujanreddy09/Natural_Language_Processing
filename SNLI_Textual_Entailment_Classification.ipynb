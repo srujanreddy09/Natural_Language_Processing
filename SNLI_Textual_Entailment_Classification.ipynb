{
 "cells": [
  {
   "cell_type": "markdown",
   "metadata": {},
   "source": [
    "## **Importing Modules**"
   ]
  },
  {
   "cell_type": "code",
   "execution_count": 98,
   "metadata": {},
   "outputs": [],
   "source": [
    "import warnings\n",
    "warnings.filterwarnings(\"ignore\")\n",
    "\n",
    "import pandas as pd\n",
    "import numpy as np\n",
    "\n",
    "import keras, nltk\n",
    "from gensim.models import Word2Vec\n",
    "\n",
    "from keras.preprocessing.text import Tokenizer\n",
    "from keras.preprocessing.sequence import pad_sequences\n",
    "from keras.utils import to_categorical, plot_model\n",
    "from keras.models import Sequential, Input, Model\n",
    "from keras.layers import Embedding, Dense, Conv1D, Concatenate, Dropout, MaxPooling1D, Bidirectional, LSTM, BatchNormalization\n",
    "from keras.callbacks import EarlyStopping\n",
    "\n",
    "from sklearn.preprocessing import OneHotEncoder, LabelEncoder\n",
    "from sklearn.metrics import classification_report\n",
    "\n",
    "import seaborn as sns\n",
    "from matplotlib import pyplot as plt"
   ]
  },
  {
   "cell_type": "code",
   "execution_count": 2,
   "metadata": {},
   "outputs": [
    {
     "name": "stdout",
     "output_type": "stream",
     "text": [
      "GPUs: \n",
      "['/job:localhost/replica:0/task:0/device:GPU:0', '/job:localhost/replica:0/task:0/device:GPU:1']\n"
     ]
    }
   ],
   "source": [
    "print(\"GPUs: \")\n",
    "print(keras.backend.tensorflow_backend._get_available_gpus())"
   ]
  },
  {
   "cell_type": "markdown",
   "metadata": {},
   "source": [
    "## **Loading data**"
   ]
  },
  {
   "cell_type": "markdown",
   "metadata": {},
   "source": [
    "The [SNLI Corpus](https://nlp.stanford.edu/projects/snli/) (version 1.0) is a collection of 570k human-written English sentence pairs manually labeled for balanced classification with the labels entailment, contradiction, and neutral, supporting the task of natural language inference (NLI), also known as recognizing textual entailment (RTE)."
   ]
  },
  {
   "cell_type": "code",
   "execution_count": 3,
   "metadata": {
    "collapsed": true
   },
   "outputs": [],
   "source": [
    "train_df = pd.read_json('data/snli_1.0_train.jsonl', lines=True)\n",
    "validation_df = pd.read_json('data/snli_1.0_dev.jsonl', lines=True)\n",
    "test_df = pd.read_json('data/snli_1.0_test.jsonl', lines=True)"
   ]
  },
  {
   "cell_type": "code",
   "execution_count": 4,
   "metadata": {},
   "outputs": [
    {
     "data": {
      "text/html": [
       "<div>\n",
       "<style>\n",
       "    .dataframe thead tr:only-child th {\n",
       "        text-align: right;\n",
       "    }\n",
       "\n",
       "    .dataframe thead th {\n",
       "        text-align: left;\n",
       "    }\n",
       "\n",
       "    .dataframe tbody tr th {\n",
       "        vertical-align: top;\n",
       "    }\n",
       "</style>\n",
       "<table border=\"1\" class=\"dataframe\">\n",
       "  <thead>\n",
       "    <tr style=\"text-align: right;\">\n",
       "      <th></th>\n",
       "      <th>annotator_labels</th>\n",
       "      <th>captionID</th>\n",
       "      <th>gold_label</th>\n",
       "      <th>pairID</th>\n",
       "      <th>sentence1</th>\n",
       "      <th>sentence1_binary_parse</th>\n",
       "      <th>sentence1_parse</th>\n",
       "      <th>sentence2</th>\n",
       "      <th>sentence2_binary_parse</th>\n",
       "      <th>sentence2_parse</th>\n",
       "    </tr>\n",
       "  </thead>\n",
       "  <tbody>\n",
       "    <tr>\n",
       "      <th>0</th>\n",
       "      <td>[neutral]</td>\n",
       "      <td>3416050480.jpg#4</td>\n",
       "      <td>neutral</td>\n",
       "      <td>3416050480.jpg#4r1n</td>\n",
       "      <td>A person on a horse jumps over a broken down a...</td>\n",
       "      <td>( ( ( A person ) ( on ( a horse ) ) ) ( ( jump...</td>\n",
       "      <td>(ROOT (S (NP (NP (DT A) (NN person)) (PP (IN o...</td>\n",
       "      <td>A person is training his horse for a competition.</td>\n",
       "      <td>( ( A person ) ( ( is ( ( training ( his horse...</td>\n",
       "      <td>(ROOT (S (NP (DT A) (NN person)) (VP (VBZ is) ...</td>\n",
       "    </tr>\n",
       "    <tr>\n",
       "      <th>1</th>\n",
       "      <td>[contradiction]</td>\n",
       "      <td>3416050480.jpg#4</td>\n",
       "      <td>contradiction</td>\n",
       "      <td>3416050480.jpg#4r1c</td>\n",
       "      <td>A person on a horse jumps over a broken down a...</td>\n",
       "      <td>( ( ( A person ) ( on ( a horse ) ) ) ( ( jump...</td>\n",
       "      <td>(ROOT (S (NP (NP (DT A) (NN person)) (PP (IN o...</td>\n",
       "      <td>A person is at a diner, ordering an omelette.</td>\n",
       "      <td>( ( A person ) ( ( ( ( is ( at ( a diner ) ) )...</td>\n",
       "      <td>(ROOT (S (NP (DT A) (NN person)) (VP (VBZ is) ...</td>\n",
       "    </tr>\n",
       "    <tr>\n",
       "      <th>2</th>\n",
       "      <td>[entailment]</td>\n",
       "      <td>3416050480.jpg#4</td>\n",
       "      <td>entailment</td>\n",
       "      <td>3416050480.jpg#4r1e</td>\n",
       "      <td>A person on a horse jumps over a broken down a...</td>\n",
       "      <td>( ( ( A person ) ( on ( a horse ) ) ) ( ( jump...</td>\n",
       "      <td>(ROOT (S (NP (NP (DT A) (NN person)) (PP (IN o...</td>\n",
       "      <td>A person is outdoors, on a horse.</td>\n",
       "      <td>( ( A person ) ( ( ( ( is outdoors ) , ) ( on ...</td>\n",
       "      <td>(ROOT (S (NP (DT A) (NN person)) (VP (VBZ is) ...</td>\n",
       "    </tr>\n",
       "    <tr>\n",
       "      <th>3</th>\n",
       "      <td>[neutral]</td>\n",
       "      <td>2267923837.jpg#2</td>\n",
       "      <td>neutral</td>\n",
       "      <td>2267923837.jpg#2r1n</td>\n",
       "      <td>Children smiling and waving at camera</td>\n",
       "      <td>( Children ( ( ( smiling and ) waving ) ( at c...</td>\n",
       "      <td>(ROOT (NP (S (NP (NNP Children)) (VP (VBG smil...</td>\n",
       "      <td>They are smiling at their parents</td>\n",
       "      <td>( They ( are ( smiling ( at ( their parents ) ...</td>\n",
       "      <td>(ROOT (S (NP (PRP They)) (VP (VBP are) (VP (VB...</td>\n",
       "    </tr>\n",
       "    <tr>\n",
       "      <th>4</th>\n",
       "      <td>[entailment]</td>\n",
       "      <td>2267923837.jpg#2</td>\n",
       "      <td>entailment</td>\n",
       "      <td>2267923837.jpg#2r1e</td>\n",
       "      <td>Children smiling and waving at camera</td>\n",
       "      <td>( Children ( ( ( smiling and ) waving ) ( at c...</td>\n",
       "      <td>(ROOT (NP (S (NP (NNP Children)) (VP (VBG smil...</td>\n",
       "      <td>There are children present</td>\n",
       "      <td>( There ( ( are children ) present ) )</td>\n",
       "      <td>(ROOT (S (NP (EX There)) (VP (VBP are) (NP (NN...</td>\n",
       "    </tr>\n",
       "  </tbody>\n",
       "</table>\n",
       "</div>"
      ],
      "text/plain": [
       "  annotator_labels         captionID     gold_label               pairID  \\\n",
       "0        [neutral]  3416050480.jpg#4        neutral  3416050480.jpg#4r1n   \n",
       "1  [contradiction]  3416050480.jpg#4  contradiction  3416050480.jpg#4r1c   \n",
       "2     [entailment]  3416050480.jpg#4     entailment  3416050480.jpg#4r1e   \n",
       "3        [neutral]  2267923837.jpg#2        neutral  2267923837.jpg#2r1n   \n",
       "4     [entailment]  2267923837.jpg#2     entailment  2267923837.jpg#2r1e   \n",
       "\n",
       "                                           sentence1  \\\n",
       "0  A person on a horse jumps over a broken down a...   \n",
       "1  A person on a horse jumps over a broken down a...   \n",
       "2  A person on a horse jumps over a broken down a...   \n",
       "3              Children smiling and waving at camera   \n",
       "4              Children smiling and waving at camera   \n",
       "\n",
       "                              sentence1_binary_parse  \\\n",
       "0  ( ( ( A person ) ( on ( a horse ) ) ) ( ( jump...   \n",
       "1  ( ( ( A person ) ( on ( a horse ) ) ) ( ( jump...   \n",
       "2  ( ( ( A person ) ( on ( a horse ) ) ) ( ( jump...   \n",
       "3  ( Children ( ( ( smiling and ) waving ) ( at c...   \n",
       "4  ( Children ( ( ( smiling and ) waving ) ( at c...   \n",
       "\n",
       "                                     sentence1_parse  \\\n",
       "0  (ROOT (S (NP (NP (DT A) (NN person)) (PP (IN o...   \n",
       "1  (ROOT (S (NP (NP (DT A) (NN person)) (PP (IN o...   \n",
       "2  (ROOT (S (NP (NP (DT A) (NN person)) (PP (IN o...   \n",
       "3  (ROOT (NP (S (NP (NNP Children)) (VP (VBG smil...   \n",
       "4  (ROOT (NP (S (NP (NNP Children)) (VP (VBG smil...   \n",
       "\n",
       "                                           sentence2  \\\n",
       "0  A person is training his horse for a competition.   \n",
       "1      A person is at a diner, ordering an omelette.   \n",
       "2                  A person is outdoors, on a horse.   \n",
       "3                  They are smiling at their parents   \n",
       "4                         There are children present   \n",
       "\n",
       "                              sentence2_binary_parse  \\\n",
       "0  ( ( A person ) ( ( is ( ( training ( his horse...   \n",
       "1  ( ( A person ) ( ( ( ( is ( at ( a diner ) ) )...   \n",
       "2  ( ( A person ) ( ( ( ( is outdoors ) , ) ( on ...   \n",
       "3  ( They ( are ( smiling ( at ( their parents ) ...   \n",
       "4             ( There ( ( are children ) present ) )   \n",
       "\n",
       "                                     sentence2_parse  \n",
       "0  (ROOT (S (NP (DT A) (NN person)) (VP (VBZ is) ...  \n",
       "1  (ROOT (S (NP (DT A) (NN person)) (VP (VBZ is) ...  \n",
       "2  (ROOT (S (NP (DT A) (NN person)) (VP (VBZ is) ...  \n",
       "3  (ROOT (S (NP (PRP They)) (VP (VBP are) (VP (VB...  \n",
       "4  (ROOT (S (NP (EX There)) (VP (VBP are) (NP (NN...  "
      ]
     },
     "execution_count": 4,
     "metadata": {},
     "output_type": "execute_result"
    }
   ],
   "source": [
    "train_df.head()"
   ]
  },
  {
   "cell_type": "markdown",
   "metadata": {},
   "source": [
    "## **Setting Parameters**"
   ]
  },
  {
   "cell_type": "code",
   "execution_count": 5,
   "metadata": {
    "collapsed": true
   },
   "outputs": [],
   "source": [
    "# Embedding Dimensions\n",
    "embedding_dim = 300\n",
    "# Number of Epochs\n",
    "nb_epochs = 100\n",
    "# Maximum length of a sentence\n",
    "max_seq_len = 100\n",
    "# Number of classes\n",
    "nb_classes = 3"
   ]
  },
  {
   "cell_type": "markdown",
   "metadata": {},
   "source": [
    "## **Preprocessing the Data**"
   ]
  },
  {
   "cell_type": "code",
   "execution_count": 6,
   "metadata": {},
   "outputs": [
    {
     "data": {
      "text/html": [
       "<div>\n",
       "<style>\n",
       "    .dataframe thead tr:only-child th {\n",
       "        text-align: right;\n",
       "    }\n",
       "\n",
       "    .dataframe thead th {\n",
       "        text-align: left;\n",
       "    }\n",
       "\n",
       "    .dataframe tbody tr th {\n",
       "        vertical-align: top;\n",
       "    }\n",
       "</style>\n",
       "<table border=\"1\" class=\"dataframe\">\n",
       "  <thead>\n",
       "    <tr style=\"text-align: right;\">\n",
       "      <th></th>\n",
       "      <th>premise</th>\n",
       "      <th>hypothesis</th>\n",
       "      <th>label</th>\n",
       "    </tr>\n",
       "  </thead>\n",
       "  <tbody>\n",
       "    <tr>\n",
       "      <th>0</th>\n",
       "      <td>A person on a horse jumps over a broken down a...</td>\n",
       "      <td>A person is training his horse for a competition.</td>\n",
       "      <td>neutral</td>\n",
       "    </tr>\n",
       "    <tr>\n",
       "      <th>1</th>\n",
       "      <td>A person on a horse jumps over a broken down a...</td>\n",
       "      <td>A person is at a diner, ordering an omelette.</td>\n",
       "      <td>contradiction</td>\n",
       "    </tr>\n",
       "    <tr>\n",
       "      <th>2</th>\n",
       "      <td>A person on a horse jumps over a broken down a...</td>\n",
       "      <td>A person is outdoors, on a horse.</td>\n",
       "      <td>entailment</td>\n",
       "    </tr>\n",
       "    <tr>\n",
       "      <th>3</th>\n",
       "      <td>Children smiling and waving at camera</td>\n",
       "      <td>They are smiling at their parents</td>\n",
       "      <td>neutral</td>\n",
       "    </tr>\n",
       "    <tr>\n",
       "      <th>4</th>\n",
       "      <td>Children smiling and waving at camera</td>\n",
       "      <td>There are children present</td>\n",
       "      <td>entailment</td>\n",
       "    </tr>\n",
       "  </tbody>\n",
       "</table>\n",
       "</div>"
      ],
      "text/plain": [
       "                                             premise  \\\n",
       "0  A person on a horse jumps over a broken down a...   \n",
       "1  A person on a horse jumps over a broken down a...   \n",
       "2  A person on a horse jumps over a broken down a...   \n",
       "3              Children smiling and waving at camera   \n",
       "4              Children smiling and waving at camera   \n",
       "\n",
       "                                          hypothesis          label  \n",
       "0  A person is training his horse for a competition.        neutral  \n",
       "1      A person is at a diner, ordering an omelette.  contradiction  \n",
       "2                  A person is outdoors, on a horse.     entailment  \n",
       "3                  They are smiling at their parents        neutral  \n",
       "4                         There are children present     entailment  "
      ]
     },
     "execution_count": 6,
     "metadata": {},
     "output_type": "execute_result"
    }
   ],
   "source": [
    "# Dropping unwanted columns and renaming the remaining columns\n",
    "def drop_columns(df):\n",
    "    required_columns = [\"sentence1\", \"sentence2\", \"gold_label\"]\n",
    "    return_df = df[required_columns]\n",
    "    return_df.columns = [\"premise\", \"hypothesis\", \"label\"]\n",
    "    # Dropping data with multiple labels\n",
    "    return_df = return_df[return_df[\"label\"] != \"-\"]\n",
    "    return return_df\n",
    "\n",
    "train_df = drop_columns(train_df)\n",
    "validation_df = drop_columns(validation_df)\n",
    "test_df = drop_columns(test_df)\n",
    "train_df.head()"
   ]
  },
  {
   "cell_type": "code",
   "execution_count": 91,
   "metadata": {},
   "outputs": [
    {
     "data": {
      "image/png": "[encoded data removed]",
      "text/plain": [
       "<Figure size 432x288 with 1 Axes>"
      ]
     },
     "metadata": {},
     "output_type": "display_data"
    }
   ],
   "source": [
    "sns.distplot(LabelEncoder().fit_transform(train_df[\"label\"]))\n",
    "plt.show()"
   ]
  },
  {
   "cell_type": "raw",
   "metadata": {},
   "source": [
    "Examples are equally distributed among the three classes "
   ]
  },
  {
   "cell_type": "markdown",
   "metadata": {},
   "source": [
    "## Text Embeddings"
   ]
  },
  {
   "cell_type": "code",
   "execution_count": 7,
   "metadata": {
    "collapsed": true
   },
   "outputs": [],
   "source": [
    "# Create an embedding matrix from a word2vec model trained on premise texts and hypothesis texts\n",
    "def create_embedding_matrix(corpus, tokenizer, vocabulary_size, embedding_dimension = embedding_dim):\n",
    "    # Train a word2vec model\n",
    "    wvmodel = Word2Vec(corpus, size = embedding_dimension)\n",
    "    \n",
    "    # Create a vocabulary dictionary\n",
    "    vocabulary = {}\n",
    "    for key, value in wvmodel.wv.vocab.items():\n",
    "        vocabulary[key] = value\n",
    "    \n",
    "    # Create an embedding matrix with embedding vectors from the word2vec model\n",
    "    embedding_matrix = np.zeros((vocabulary_size, embedding_dimension))\n",
    "    for word, i in tokenizer.word_index.items():\n",
    "        if vocabulary.get(word) is not None:\n",
    "            embedding_matrix[i] = wvmodel[word]\n",
    "    return embedding_matrix"
   ]
  },
  {
   "cell_type": "markdown",
   "metadata": {},
   "source": [
    "## Tokenizing the data"
   ]
  },
  {
   "cell_type": "code",
   "execution_count": 8,
   "metadata": {
    "collapsed": true
   },
   "outputs": [],
   "source": [
    "# Create corpi\n",
    "premise_corpus = [nltk.word_tokenize(sent) for sent in train_df[\"premise\"]]\n",
    "hypothesis_corpus = [nltk.word_tokenize(sent) for sent in train_df[\"hypothesis\"]]"
   ]
  },
  {
   "cell_type": "code",
   "execution_count": 9,
   "metadata": {
    "collapsed": true
   },
   "outputs": [],
   "source": [
    "# Tokenize corpi\n",
    "premise_tokenizer = Tokenizer(oov_token = \"oov_tok\")\n",
    "premise_tokenizer.fit_on_texts(premise_corpus)\n",
    "premise_vocab_size = len(premise_tokenizer.word_index) + 1\n",
    "\n",
    "hypothesis_tokenizer = Tokenizer(oov_token = \"oov_tok\")\n",
    "hypothesis_tokenizer.fit_on_texts(hypothesis_corpus)\n",
    "hypothesis_vocab_size = len(hypothesis_tokenizer.word_index) + 1"
   ]
  },
  {
   "cell_type": "markdown",
   "metadata": {},
   "source": [
    "## Padding the data"
   ]
  },
  {
   "cell_type": "code",
   "execution_count": 10,
   "metadata": {
    "collapsed": true
   },
   "outputs": [],
   "source": [
    "# Convert text to sequences\n",
    "premise_seqs = premise_tokenizer.texts_to_sequences(premise_corpus)\n",
    "hypothesis_seqs = hypothesis_tokenizer.texts_to_sequences(hypothesis_corpus)\n",
    "\n",
    "# Pad the tokenised sequences\n",
    "padded_premise_seqs = pad_sequences(premise_seqs, maxlen=max_seq_len, padding = \"pre\")\n",
    "padded_hypothesis_seqs = pad_sequences(hypothesis_seqs, maxlen=max_seq_len, padding = \"pre\")"
   ]
  },
  {
   "cell_type": "code",
   "execution_count": 11,
   "metadata": {
    "collapsed": true
   },
   "outputs": [],
   "source": [
    "# Prepare validation dataset\n",
    "premise_seqs_val = premise_tokenizer.texts_to_sequences([sent for sent in validation_df[\"premise\"]])\n",
    "padded_premise_seqs_val = pad_sequences(premise_seqs_val, maxlen=max_seq_len, padding = \"pre\")\n",
    "\n",
    "hypothesis_seqs_val = hypothesis_tokenizer.texts_to_sequences([sent for sent in validation_df[\"hypothesis\"]])\n",
    "padded_hypothesis_seqs_val = pad_sequences(hypothesis_seqs_val, maxlen=max_seq_len, padding = \"pre\")\n",
    "\n",
    "# Prepare test dataset\n",
    "premise_seqs_test = premise_tokenizer.texts_to_sequences([sent for sent in test_df[\"premise\"]])\n",
    "padded_premise_seqs_test = pad_sequences(premise_seqs_test, maxlen=max_seq_len, padding = \"pre\")\n",
    "\n",
    "hypothesis_seqs_test = hypothesis_tokenizer.texts_to_sequences([sent for sent in test_df[\"hypothesis\"]])\n",
    "padded_hypothesis_seqs_test = pad_sequences(hypothesis_seqs_test, maxlen=max_seq_len, padding = \"pre\")"
   ]
  },
  {
   "cell_type": "markdown",
   "metadata": {},
   "source": [
    "## **Label Encoding**"
   ]
  },
  {
   "cell_type": "code",
   "execution_count": 12,
   "metadata": {},
   "outputs": [
    {
     "data": {
      "text/plain": [
       "OneHotEncoder(handle_unknown='ignore')"
      ]
     },
     "execution_count": 12,
     "metadata": {},
     "output_type": "execute_result"
    }
   ],
   "source": [
    "# One-hot encode Labels\n",
    "one_enc = OneHotEncoder(handle_unknown=\"ignore\")\n",
    "one_enc.fit(np.array(train_df[\"label\"]).reshape(-1, 1))"
   ]
  },
  {
   "cell_type": "code",
   "execution_count": 13,
   "metadata": {},
   "outputs": [
    {
     "data": {
      "text/plain": [
       "(549367, 3)"
      ]
     },
     "execution_count": 13,
     "metadata": {},
     "output_type": "execute_result"
    }
   ],
   "source": [
    "train_labels = one_enc.transform(np.array(train_df[\"label\"]).reshape(-1, 1))\n",
    "val_labels = one_enc.transform(np.array(validation_df[\"label\"]).reshape(-1, 1))\n",
    "test_labels = one_enc.transform(np.array(test_df[\"label\"]).reshape(-1, 1))\n",
    "train_labels.shape"
   ]
  },
  {
   "cell_type": "markdown",
   "metadata": {},
   "source": [
    "## Model Architecture"
   ]
  },
  {
   "cell_type": "code",
   "execution_count": 47,
   "metadata": {
    "collapsed": true
   },
   "outputs": [],
   "source": [
    "# Input layers\n",
    "premise_inputs = Input(shape = (max_seq_len, ))\n",
    "hypothesis_inputs = Input(shape = (max_seq_len, ))"
   ]
  },
  {
   "cell_type": "code",
   "execution_count": 48,
   "metadata": {
    "collapsed": true
   },
   "outputs": [],
   "source": [
    "# Creating embedding matrices for premise and hypothesis corpi\n",
    "premise_embedding_matrix = create_embedding_matrix(premise_corpus, \n",
    "                                                   premise_tokenizer, \n",
    "                                                   premise_vocab_size)\n",
    "\n",
    "hypothesis_embedding_matrix = create_embedding_matrix(hypothesis_corpus, \n",
    "                                                   hypothesis_tokenizer, \n",
    "                                                   hypothesis_vocab_size)\n",
    "\n",
    "# Creating embedding layers with embedding matrices as weights\n",
    "premise_embedding_layer = Embedding(input_dim=premise_vocab_size, \n",
    "                                    output_dim=embedding_dim, \n",
    "                                    input_length=max_seq_len, \n",
    "                                    weights = [premise_embedding_matrix], \n",
    "                                    trainable = False)(premise_inputs)\n",
    "hypothesis_embedding_layer = Embedding(input_dim=hypothesis_vocab_size, \n",
    "                                    output_dim=embedding_dim, \n",
    "                                    input_length=max_seq_len, \n",
    "                                    weights = [hypothesis_embedding_matrix], \n",
    "                                    trainable = False)(hypothesis_inputs)"
   ]
  },
  {
   "cell_type": "code",
   "execution_count": 71,
   "metadata": {},
   "outputs": [],
   "source": [
    "# Model architecture for premise texts\n",
    "premise_model = Conv1D(64, kernel_size=3, activation = \"relu\")(premise_embedding_layer)\n",
    "premise_model = BatchNormalization()(premise_model)\n",
    "premise_model = Conv1D(64, kernel_size=3, activation = \"relu\")(premise_model)\n",
    "premise_model = BatchNormalization()(premise_model)\n",
    "premise_model = MaxPooling1D(2)(premise_model)\n",
    "premise_model = Dropout(0.3)(premise_model)\n",
    "premise_model = Bidirectional(LSTM(50))(premise_model)"
   ]
  },
  {
   "cell_type": "code",
   "execution_count": 72,
   "metadata": {
    "collapsed": true
   },
   "outputs": [],
   "source": [
    "# Model architecture for hypothesis texts\n",
    "hypothesis_model = Conv1D(64, kernel_size=3, activation = \"relu\")(hypothesis_embedding_layer)\n",
    "hypothesis_model = BatchNormalization()(hypothesis_model)\n",
    "hypothesis_model = Conv1D(64, kernel_size=3, activation = \"relu\")(hypothesis_model)\n",
    "hypothesis_model = BatchNormalization()(hypothesis_model)\n",
    "hypothesis_model = MaxPooling1D(2)(hypothesis_model)\n",
    "hypothesis_model = Dropout(0.3)(hypothesis_model)\n",
    "hypothesis_model = Bidirectional(LSTM(50))(hypothesis_model)"
   ]
  },
  {
   "cell_type": "code",
   "execution_count": 73,
   "metadata": {},
   "outputs": [],
   "source": [
    "# Concatening the premise and hypothesis models\n",
    "x = Concatenate()([premise_model, hypothesis_model])\n",
    "# DNN\n",
    "x = Dense(256, activation = \"relu\")(x)\n",
    "x = Dropout(0.3)(x)\n",
    "output = Dense(nb_classes, activation = \"softmax\")(x)\n",
    "model = Model([premise_inputs, hypothesis_inputs], output)"
   ]
  },
  {
   "cell_type": "code",
   "execution_count": 74,
   "metadata": {},
   "outputs": [
    {
     "name": "stdout",
     "output_type": "stream",
     "text": [
      "__________________________________________________________________________________________________\n",
      "Layer (type)                    Output Shape         Param #     Connected to                     \n",
      "==================================================================================================\n",
      "input_3 (InputLayer)            (None, 100)          0                                            \n",
      "__________________________________________________________________________________________________\n",
      "input_4 (InputLayer)            (None, 100)          0                                            \n",
      "__________________________________________________________________________________________________\n",
      "embedding_3 (Embedding)         (None, 100, 300)     6903000     input_3[0][0]                    \n",
      "__________________________________________________________________________________________________\n",
      "embedding_4 (Embedding)         (None, 100, 300)     11030400    input_4[0][0]                    \n",
      "__________________________________________________________________________________________________\n",
      "conv1d_20 (Conv1D)              (None, 98, 64)       57664       embedding_3[0][0]                \n",
      "__________________________________________________________________________________________________\n",
      "conv1d_22 (Conv1D)              (None, 98, 64)       57664       embedding_4[0][0]                \n",
      "__________________________________________________________________________________________________\n",
      "batch_normalization_1 (BatchNor (None, 98, 64)       256         conv1d_20[0][0]                  \n",
      "__________________________________________________________________________________________________\n",
      "batch_normalization_3 (BatchNor (None, 98, 64)       256         conv1d_22[0][0]                  \n",
      "__________________________________________________________________________________________________\n",
      "conv1d_21 (Conv1D)              (None, 96, 64)       12352       batch_normalization_1[0][0]      \n",
      "__________________________________________________________________________________________________\n",
      "conv1d_23 (Conv1D)              (None, 96, 64)       12352       batch_normalization_3[0][0]      \n",
      "__________________________________________________________________________________________________\n",
      "batch_normalization_2 (BatchNor (None, 96, 64)       256         conv1d_21[0][0]                  \n",
      "__________________________________________________________________________________________________\n",
      "batch_normalization_4 (BatchNor (None, 96, 64)       256         conv1d_23[0][0]                  \n",
      "__________________________________________________________________________________________________\n",
      "max_pooling1d_7 (MaxPooling1D)  (None, 48, 64)       0           batch_normalization_2[0][0]      \n",
      "__________________________________________________________________________________________________\n",
      "max_pooling1d_8 (MaxPooling1D)  (None, 48, 64)       0           batch_normalization_4[0][0]      \n",
      "__________________________________________________________________________________________________\n",
      "dropout_13 (Dropout)            (None, 48, 64)       0           max_pooling1d_7[0][0]            \n",
      "__________________________________________________________________________________________________\n",
      "dropout_14 (Dropout)            (None, 48, 64)       0           max_pooling1d_8[0][0]            \n",
      "__________________________________________________________________________________________________\n",
      "bidirectional_3 (Bidirectional) (None, 100)          46000       dropout_13[0][0]                 \n",
      "__________________________________________________________________________________________________\n",
      "bidirectional_4 (Bidirectional) (None, 100)          46000       dropout_14[0][0]                 \n",
      "__________________________________________________________________________________________________\n",
      "concatenate_8 (Concatenate)     (None, 200)          0           bidirectional_3[0][0]            \n",
      "                                                                 bidirectional_4[0][0]            \n",
      "__________________________________________________________________________________________________\n",
      "dense_13 (Dense)                (None, 256)          51456       concatenate_8[0][0]              \n",
      "__________________________________________________________________________________________________\n",
      "dropout_15 (Dropout)            (None, 256)          0           dense_13[0][0]                   \n",
      "__________________________________________________________________________________________________\n",
      "dense_14 (Dense)                (None, 3)            771         dropout_15[0][0]                 \n",
      "==================================================================================================\n",
      "Total params: 18,218,683\n",
      "Trainable params: 284,771\n",
      "Non-trainable params: 17,933,912\n",
      "__________________________________________________________________________________________________\n"
     ]
    }
   ],
   "source": [
    "model.summary()"
   ]
  },
  {
   "cell_type": "code",
   "execution_count": 75,
   "metadata": {
    "collapsed": true
   },
   "outputs": [],
   "source": [
    "# Compiling the model\n",
    "model.compile(loss = \"categorical_crossentropy\", optimizer = \"adam\", metrics = [\"accuracy\"])"
   ]
  },
  {
   "cell_type": "code",
   "execution_count": 76,
   "metadata": {
    "collapsed": true
   },
   "outputs": [],
   "source": [
    "# Early stop callback\n",
    "early_stop = EarlyStopping(monitor = \"val_loss\", patience = 5)"
   ]
  },
  {
   "cell_type": "markdown",
   "metadata": {},
   "source": [
    "## Training the model"
   ]
  },
  {
   "cell_type": "code",
   "execution_count": null,
   "metadata": {},
   "outputs": [
    {
     "name": "stdout",
     "output_type": "stream",
     "text": [
      "Train on 549367 samples, validate on 9842 samples\n",
      "Epoch 1/100\n",
      "549367/549367 [==============================] - 1516s 3ms/step - loss: 0.8881 - acc: 0.5885 - val_loss: 0.8393 - val_acc: 0.6221\n",
      "Epoch 2/100\n",
      "549367/549367 [==============================] - 1508s 3ms/step - loss: 0.8187 - acc: 0.6316 - val_loss: 0.8059 - val_acc: 0.6369\n",
      "Epoch 3/100\n",
      "549367/549367 [==============================] - 1508s 3ms/step - loss: 0.7905 - acc: 0.6485 - val_loss: 0.7980 - val_acc: 0.6443\n",
      "Epoch 4/100\n",
      "549367/549367 [==============================] - 1508s 3ms/step - loss: 0.7720 - acc: 0.6579 - val_loss: 0.7704 - val_acc: 0.6656\n",
      "Epoch 5/100\n",
      "549367/549367 [==============================] - 1508s 3ms/step - loss: 0.7566 - acc: 0.6666 - val_loss: 0.7515 - val_acc: 0.6760\n",
      "Epoch 6/100\n",
      "549367/549367 [==============================] - 1507s 3ms/step - loss: 0.7432 - acc: 0.6742 - val_loss: 0.7454 - val_acc: 0.6775\n",
      "Epoch 7/100\n",
      "549367/549367 [==============================] - 1508s 3ms/step - loss: 0.7328 - acc: 0.6799 - val_loss: 0.7297 - val_acc: 0.6859\n",
      "Epoch 8/100\n",
      "549367/549367 [==============================] - 1507s 3ms/step - loss: 0.7239 - acc: 0.6849 - val_loss: 0.7310 - val_acc: 0.6877\n",
      "Epoch 9/100\n",
      "549367/549367 [==============================] - 1508s 3ms/step - loss: 0.7153 - acc: 0.6902 - val_loss: 0.7222 - val_acc: 0.6911\n",
      "Epoch 10/100\n",
      "549367/549367 [==============================] - 1508s 3ms/step - loss: 0.7079 - acc: 0.6934 - val_loss: 0.7235 - val_acc: 0.6931\n",
      "Epoch 11/100\n",
      "549367/549367 [==============================] - 1507s 3ms/step - loss: 0.7016 - acc: 0.6966 - val_loss: 0.7191 - val_acc: 0.6942\n",
      "Epoch 12/100\n",
      "549367/549367 [==============================] - 1507s 3ms/step - loss: 0.6965 - acc: 0.6992 - val_loss: 0.7147 - val_acc: 0.6949\n",
      "Epoch 13/100\n",
      "549367/549367 [==============================] - 1508s 3ms/step - loss: 0.6912 - acc: 0.7022 - val_loss: 0.7119 - val_acc: 0.6950\n",
      "Epoch 14/100\n",
      "549367/549367 [==============================] - 1508s 3ms/step - loss: 0.6865 - acc: 0.7042 - val_loss: 0.7047 - val_acc: 0.6967\n",
      "Epoch 15/100\n",
      "549367/549367 [==============================] - 1508s 3ms/step - loss: 0.6825 - acc: 0.7066 - val_loss: 0.7113 - val_acc: 0.7011\n",
      "Epoch 16/100\n",
      "549367/549367 [==============================] - 1508s 3ms/step - loss: 0.6784 - acc: 0.7087 - val_loss: 0.7056 - val_acc: 0.7001\n",
      "Epoch 17/100\n",
      "549367/549367 [==============================] - 1508s 3ms/step - loss: 0.6749 - acc: 0.7109 - val_loss: 0.7001 - val_acc: 0.6986\n",
      "Epoch 18/100\n",
      "549367/549367 [==============================] - 1507s 3ms/step - loss: 0.6711 - acc: 0.7123 - val_loss: 0.7026 - val_acc: 0.7050\n",
      "Epoch 19/100\n",
      "549367/549367 [==============================] - 1507s 3ms/step - loss: 0.6684 - acc: 0.7137 - val_loss: 0.7000 - val_acc: 0.7012\n",
      "Epoch 20/100\n",
      "549367/549367 [==============================] - 1508s 3ms/step - loss: 0.6661 - acc: 0.7154 - val_loss: 0.6958 - val_acc: 0.7039\n",
      "Epoch 21/100\n",
      "549367/549367 [==============================] - 1508s 3ms/step - loss: 0.6627 - acc: 0.7170 - val_loss: 0.6962 - val_acc: 0.7013\n",
      "Epoch 22/100\n",
      "549367/549367 [==============================] - 1507s 3ms/step - loss: 0.6601 - acc: 0.7173 - val_loss: 0.6904 - val_acc: 0.7066\n",
      "Epoch 23/100\n",
      "549367/549367 [==============================] - 1508s 3ms/step - loss: 0.6569 - acc: 0.7200 - val_loss: 0.6957 - val_acc: 0.7053\n",
      "Epoch 24/100\n",
      "549367/549367 [==============================] - 1508s 3ms/step - loss: 0.6543 - acc: 0.7207 - val_loss: 0.6968 - val_acc: 0.7023\n",
      "Epoch 25/100\n",
      "549367/549367 [==============================] - 1508s 3ms/step - loss: 0.6518 - acc: 0.7226 - val_loss: 0.6909 - val_acc: 0.7086\n",
      "Epoch 26/100\n",
      "549367/549367 [==============================] - 1508s 3ms/step - loss: 0.6481 - acc: 0.7251 - val_loss: 0.6806 - val_acc: 0.7138\n",
      "Epoch 27/100\n",
      "549367/549367 [==============================] - 1508s 3ms/step - loss: 0.6424 - acc: 0.7280 - val_loss: 0.6744 - val_acc: 0.7157\n",
      "Epoch 28/100\n",
      "549367/549367 [==============================] - 1503s 3ms/step - loss: 0.6201 - acc: 0.7382 - val_loss: 0.6647 - val_acc: 0.7246\n",
      "Epoch 34/100\n",
      "549367/549367 [==============================] - 1505s 3ms/step - loss: 0.5924 - acc: 0.7520 - val_loss: 0.6483 - val_acc: 0.7311\n"
     ]
    }
   ],
   "source": [
    "# Fitting the data\n",
    "history = model.fit(x = [padded_premise_seqs, padded_hypothesis_seqs], \n",
    "                    y = train_labels, \n",
    "                    validation_data = ([padded_premise_seqs_val, padded_hypothesis_seqs_val], val_labels),\n",
    "                    shuffle = True,\n",
    "                    epochs = nb_epochs,\n",
    "                    batch_size = 64,\n",
    "                    callbacks = [early_stop]\n",
    "                   )"
   ]
  },
  {
   "cell_type": "markdown",
   "metadata": {},
   "source": [
    "## Evaluating model on test set"
   ]
  },
  {
   "cell_type": "code",
   "execution_count": 80,
   "metadata": {},
   "outputs": [
    {
     "name": "stdout",
     "output_type": "stream",
     "text": [
      "9824/9824 [==============================] - 12s 1ms/step\n",
      "Accuracy on test set :  73.402\n"
     ]
    }
   ],
   "source": [
    "_, acc = model.evaluate([padded_premise_seqs_test, padded_hypothesis_seqs_test], test_labels)\n",
    "print(\"Accuracy on test set : \", round(acc*100, 3))"
   ]
  },
  {
   "cell_type": "markdown",
   "metadata": {},
   "source": [
    "## Classification Report"
   ]
  },
  {
   "cell_type": "code",
   "execution_count": 97,
   "metadata": {},
   "outputs": [],
   "source": [
    "test_pred = model.predict([padded_premise_seqs_test, padded_hypothesis_seqs_test])"
   ]
  },
  {
   "cell_type": "code",
   "execution_count": 109,
   "metadata": {},
   "outputs": [
    {
     "name": "stdout",
     "output_type": "stream",
     "text": [
      "               precision    recall  f1-score   support\n",
      "\n",
      "contradiction       0.80      0.69      0.74      3237\n",
      "   entailment       0.73      0.78      0.75      3368\n",
      "      neutral       0.69      0.73      0.71      3219\n",
      "\n",
      "     accuracy                           0.73      9824\n",
      "    macro avg       0.74      0.73      0.73      9824\n",
      " weighted avg       0.74      0.73      0.73      9824\n",
      "\n"
     ]
    }
   ],
   "source": [
    "print(classification_report(np.argmax(test_labels, axis = 1), np.argmax(test_pred, axis = 1), target_names=one_enc.categories_[0].tolist()))"
   ]
  }
 ],
 "metadata": {
  "kernelspec": {
   "display_name": "Python 3",
   "language": "python",
   "name": "python3"
  },
  "language_info": {
   "codemirror_mode": {
    "name": "ipython",
    "version": 3
   },
   "file_extension": ".py",
   "mimetype": "text/x-python",
   "name": "python",
   "nbconvert_exporter": "python",
   "pygments_lexer": "ipython3",
   "version": "3.6.8"
  }
 },
 "nbformat": 4,
 "nbformat_minor": 2
}

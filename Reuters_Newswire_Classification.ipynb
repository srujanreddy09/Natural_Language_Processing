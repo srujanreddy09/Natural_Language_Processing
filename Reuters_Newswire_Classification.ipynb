{
  "nbformat": 4,
  "nbformat_minor": 0,
  "metadata": {
    "colab": {
      "name": "Reuters_Newswire_Classification.ipynb",
      "provenance": [],
      "collapsed_sections": [],
      "authorship_tag": "ABX9TyP2kfouzGj8Xbz207QRP8hH",
      "include_colab_link": true
    },
    "kernelspec": {
      "name": "python3",
      "display_name": "Python 3"
    },
    "accelerator": "TPU"
  },
  "cells": [
    {
      "cell_type": "markdown",
      "metadata": {
        "id": "view-in-github",
        "colab_type": "text"
      },
      "source": [
        "<a href=\"https://colab.research.google.com/github/srujanreddy09/Natural_Language_Processing/blob/master/Reuters_Newswire_Classification.ipynb\" target=\"_parent\"><img src=\"https://colab.research.google.com/assets/colab-badge.svg\" alt=\"Open In Colab\"/></a>"
      ]
    },
    {
      "cell_type": "markdown",
      "metadata": {
        "id": "ueHZyWdN2Tro",
        "colab_type": "text"
      },
      "source": [
        "## **Importing Modules**"
      ]
    },
    {
      "cell_type": "code",
      "metadata": {
        "id": "8r3-IG1xZNRU",
        "colab_type": "code",
        "colab": {
          "base_uri": "https://localhost:8080/",
          "height": 72
        },
        "outputId": "f98fd2a2-2d9b-4aa6-96c3-c40608a41d74"
      },
      "source": [
        "import numpy as np\n",
        "from tensorflow.keras import regularizers\n",
        "from tensorflow.keras.metrics import Precision, Recall, CategoricalAccuracy, AUC\n",
        "from tensorflow.keras.layers import Dense, Dropout, LSTM, Embedding\n",
        "from tensorflow.keras.models import Sequential\n",
        "from tensorflow.keras.callbacks import EarlyStopping\n",
        "from tensorflow.keras.datasets import reuters\n",
        "from tensorflow.keras.preprocessing.sequence import pad_sequences\n",
        "from tensorflow.keras.preprocessing.text import Tokenizer\n",
        "from tensorflow.keras.utils import to_categorical\n",
        "from sklearn.model_selection import train_test_split\n",
        "from sklearn.utils import class_weight\n",
        "from matplotlib import pyplot as plt\n",
        "import seaborn as sns\n",
        "import warnings\n",
        "warnings.filterwarnings('ignore')"
      ],
      "execution_count": null,
      "outputs": [
        {
          "output_type": "stream",
          "text": [
            "/usr/local/lib/python3.6/dist-packages/statsmodels/tools/_testing.py:19: FutureWarning: pandas.util.testing is deprecated. Use the functions in the public API at pandas.testing instead.\n",
            "  import pandas.util.testing as tm\n"
          ],
          "name": "stderr"
        }
      ]
    },
    {
      "cell_type": "markdown",
      "metadata": {
        "id": "r2Cbeynh2Xeo",
        "colab_type": "text"
      },
      "source": [
        "## **Helper Functions**"
      ]
    },
    {
      "cell_type": "code",
      "metadata": {
        "id": "NPLRAynYctOs",
        "colab_type": "code",
        "colab": {}
      },
      "source": [
        "# For plotting accuracy during training phase\n",
        "def accuracy_plotter(history):\n",
        "    plt.plot(history.history['categorical_accuracy'])\n",
        "    plt.plot(history.history['val_categorical_accuracy'])\n",
        "    plt.title('Model Accuracy')\n",
        "    plt.ylabel('Accuracy')\n",
        "    plt.xlabel('Epoch')\n",
        "    plt.legend(['Train', 'Validation'], loc='upper left')\n",
        "    plt.show()\n",
        "    plt.clf()\n",
        "\n",
        "# For plotting loss during training phase\n",
        "def loss_plotter(history):\n",
        "    plt.plot(history.history['loss'])\n",
        "    plt.plot(history.history['val_loss'])\n",
        "    plt.title('Model Loss')\n",
        "    plt.ylabel('Loss')\n",
        "    plt.xlabel('Epoch')\n",
        "    plt.legend(['Train', 'Validation'], loc='upper left')\n",
        "    plt.show()\n",
        "    plt.clf()"
      ],
      "execution_count": null,
      "outputs": []
    },
    {
      "cell_type": "code",
      "metadata": {
        "id": "Bgf7nii8dCJh",
        "colab_type": "code",
        "colab": {}
      },
      "source": [
        "# Parameters\n",
        "nb_epochs = 25\n",
        "num_words = 10000\n",
        "common_words = 10\n",
        "nb_classes = 46"
      ],
      "execution_count": null,
      "outputs": []
    },
    {
      "cell_type": "markdown",
      "metadata": {
        "id": "ToQsKNvj2gUO",
        "colab_type": "text"
      },
      "source": [
        "## **Loading Data**"
      ]
    },
    {
      "cell_type": "code",
      "metadata": {
        "id": "HvRzdU5zdCOP",
        "colab_type": "code",
        "colab": {}
      },
      "source": [
        "# Choosing the top 10000 frequent words and skipping the top 15 common words \n",
        "(data, targets) = reuters.load_data(num_words=num_words, skip_top=common_words, test_split=0)[0]"
      ],
      "execution_count": null,
      "outputs": []
    },
    {
      "cell_type": "markdown",
      "metadata": {
        "id": "KhGa5VU22ohK",
        "colab_type": "text"
      },
      "source": [
        "## **Data Analysis**"
      ]
    },
    {
      "cell_type": "code",
      "metadata": {
        "id": "m7DS-3ROdCMF",
        "colab_type": "code",
        "colab": {
          "base_uri": "https://localhost:8080/",
          "height": 34
        },
        "outputId": "19c02f52-a783-48a3-a940-627d6b2da8f6"
      },
      "source": [
        "print(\"Shape of the data :\", data.shape)"
      ],
      "execution_count": null,
      "outputs": [
        {
          "output_type": "stream",
          "text": [
            "Shape of the data : (11228,)\n"
          ],
          "name": "stdout"
        }
      ]
    },
    {
      "cell_type": "code",
      "metadata": {
        "id": "stG2OKcXdCG7",
        "colab_type": "code",
        "colab": {
          "base_uri": "https://localhost:8080/",
          "height": 52
        },
        "outputId": "594e589e-9756-4226-abc3-b6a29e922fef"
      },
      "source": [
        "print(\"Categories of the targets: \", np.unique(targets))"
      ],
      "execution_count": null,
      "outputs": [
        {
          "output_type": "stream",
          "text": [
            "Categories of the targets:  [ 0  1  2  3  4  5  6  7  8  9 10 11 12 13 14 15 16 17 18 19 20 21 22 23\n",
            " 24 25 26 27 28 29 30 31 32 33 34 35 36 37 38 39 40 41 42 43 44 45]\n"
          ],
          "name": "stdout"
        }
      ]
    },
    {
      "cell_type": "code",
      "metadata": {
        "id": "yOCnnh_Keqee",
        "colab_type": "code",
        "colab": {
          "base_uri": "https://localhost:8080/",
          "height": 34
        },
        "outputId": "115fd697-0b2e-442f-93c4-0fa0e8c69b7f"
      },
      "source": [
        "print(\"Number of unique words :\", len(np.unique(np.hstack(data))))"
      ],
      "execution_count": null,
      "outputs": [
        {
          "output_type": "stream",
          "text": [
            "Number of unique words : 9991\n"
          ],
          "name": "stdout"
        }
      ]
    },
    {
      "cell_type": "code",
      "metadata": {
        "id": "KElKlNFPfN5R",
        "colab_type": "code",
        "colab": {
          "base_uri": "https://localhost:8080/",
          "height": 34
        },
        "outputId": "d5fdb141-99c9-4585-dcd9-aee9f02e0cc3"
      },
      "source": [
        "print(\"Average length of a sentence\", np.mean([len(i) for i in data]))"
      ],
      "execution_count": null,
      "outputs": [
        {
          "output_type": "stream",
          "text": [
            "Average length of a sentence 145.96419665122906\n"
          ],
          "name": "stdout"
        }
      ]
    },
    {
      "cell_type": "code",
      "metadata": {
        "id": "yLPOAtdJfRnu",
        "colab_type": "code",
        "colab": {
          "base_uri": "https://localhost:8080/",
          "height": 34
        },
        "outputId": "476740d2-367d-4474-9283-f5d5ab0d6ae6"
      },
      "source": [
        "print(\"Max length of a sentence : \", np.max([len(i) for i in data]))"
      ],
      "execution_count": null,
      "outputs": [
        {
          "output_type": "stream",
          "text": [
            "Max length of a sentence :  2376\n"
          ],
          "name": "stdout"
        }
      ]
    },
    {
      "cell_type": "code",
      "metadata": {
        "id": "YyF5N3Fw4nEg",
        "colab_type": "code",
        "colab": {}
      },
      "source": [
        "# Retrieving the word_index dictionary\n",
        "word_dict = {value:key for (key, value) in reuters.get_word_index().items()}"
      ],
      "execution_count": null,
      "outputs": []
    },
    {
      "cell_type": "code",
      "metadata": {
        "id": "5O64Fofp3LeC",
        "colab_type": "code",
        "colab": {
          "base_uri": "https://localhost:8080/",
          "height": 72
        },
        "outputId": "fdb854bb-53a8-4449-9961-0830cd14fad0"
      },
      "source": [
        "# An example newswire\n",
        "print(' '.join([word_dict[x] for x in data[22]]))\n",
        "print(targets[22])"
      ],
      "execution_count": null,
      "outputs": [
        {
          "output_type": "stream",
          "text": [
            "of of profit of 1 75 of not concern government member be name incorporation profits on tonnes of this oper 10 of commodities of reserve not whether profits on tonnes of of of council gross of yields finance its all also is of sources 4 is of an source of of this rose billion trade vs 000 of this of of commodities or of agreement of around against should with shareholders total 000 april 0 of oper 10 conference of of pct dlrs\n",
            "4\n"
          ],
          "name": "stdout"
        }
      ]
    },
    {
      "cell_type": "code",
      "metadata": {
        "id": "pIc8-GrfDUT7",
        "colab_type": "code",
        "colab": {
          "base_uri": "https://localhost:8080/",
          "height": 282
        },
        "outputId": "4c8bbdb3-5c3b-45b1-ddf3-ce8197dcff2e"
      },
      "source": [
        "#Check if the data is imbalanced\n",
        "sns.distplot(targets)"
      ],
      "execution_count": null,
      "outputs": [
        {
          "output_type": "execute_result",
          "data": {
            "text/plain": [
              "<matplotlib.axes._subplots.AxesSubplot at 0x7f006b63c6d8>"
            ]
          },
          "metadata": {
            "tags": []
          },
          "execution_count": 12
        },
        {
          "output_type": "display_data",
          "data": {
            "image/png": "[encoded data removed]",
            "text/plain": [
              "<Figure size 432x288 with 1 Axes>"
            ]
          },
          "metadata": {
            "tags": [],
            "needs_background": "light"
          }
        }
      ]
    },
    {
      "cell_type": "markdown",
      "metadata": {
        "id": "L3m6uGfZkaVr",
        "colab_type": "text"
      },
      "source": [
        "The data is imbalanced as the number of examples belonging to one class are much larger that of the other classes. Accuracy is not a good measure to evaluate our model. Instead Precision_Recall-AUC will help us better understand the performance of our model. A high AUC represents both high recall and high precision which shows that the classifier is returning accurate results (high precision), as well as returning a majority of all positive results (high recall).\n",
        "To balance the data, we are going to provide some bias to the mminority class. This is better than upsampling the minority classes because we have a large number of classes."
      ]
    },
    {
      "cell_type": "markdown",
      "metadata": {
        "id": "nQIIJ3SU2s7G",
        "colab_type": "text"
      },
      "source": [
        "## **Data Preprocessing**"
      ]
    },
    {
      "cell_type": "code",
      "metadata": {
        "id": "Ii3WIyLgffoM",
        "colab_type": "code",
        "colab": {}
      },
      "source": [
        "# Splitting into train and test data\n",
        "x_train, x_test, y_train, y_test = train_test_split(data, targets, test_size=0.3, random_state=42)"
      ],
      "execution_count": null,
      "outputs": []
    },
    {
      "cell_type": "code",
      "metadata": {
        "id": "XUAmVQ5QuGeR",
        "colab_type": "code",
        "colab": {}
      },
      "source": [
        "# Tokenizing the sequences\n",
        "tokenizer = Tokenizer(num_words=num_words, oov_token=\"oov_tok\")\n",
        "tokenizer.fit_on_sequences(x_train)\n",
        "word_index = tokenizer.word_index"
      ],
      "execution_count": null,
      "outputs": []
    },
    {
      "cell_type": "code",
      "metadata": {
        "id": "15ccPQmfvkHM",
        "colab_type": "code",
        "colab": {}
      },
      "source": [
        "# Fitting the sequences on the tokenizer\n",
        "train_sequences = tokenizer.sequences_to_matrix(x_train, mode = \"binary\")\n",
        "test_sequences = tokenizer.sequences_to_matrix(x_test, mode = \"binary\")"
      ],
      "execution_count": null,
      "outputs": []
    },
    {
      "cell_type": "code",
      "metadata": {
        "id": "XhMi8camwPax",
        "colab_type": "code",
        "colab": {
          "base_uri": "https://localhost:8080/",
          "height": 52
        },
        "outputId": "65c1d374-67e7-424c-93a1-cde6294ce708"
      },
      "source": [
        "print(\"Shape of vectorized sequences :\", train_sequences.shape)\n",
        "print(\"Shape of targets :\", y_train.shape)"
      ],
      "execution_count": null,
      "outputs": [
        {
          "output_type": "stream",
          "text": [
            "Shape of vectorized sequences : (7859, 10000)\n",
            "Shape of targets : (7859,)\n"
          ],
          "name": "stdout"
        }
      ]
    },
    {
      "cell_type": "markdown",
      "metadata": {
        "id": "YR3f9mQa8haS",
        "colab_type": "text"
      },
      "source": [
        "## **Computing class_weights**"
      ]
    },
    {
      "cell_type": "code",
      "metadata": {
        "id": "JzYPJHGhlcK1",
        "colab_type": "code",
        "colab": {}
      },
      "source": [
        "weights = class_weight.compute_class_weight(\"balanced\", np.unique(y_train), y_train)\n",
        "class_weights = dict(enumerate(weights))"
      ],
      "execution_count": null,
      "outputs": []
    },
    {
      "cell_type": "code",
      "metadata": {
        "id": "6-woMWNIfx21",
        "colab_type": "code",
        "colab": {}
      },
      "source": [
        "# One hot encoding targets\n",
        "train_labels = to_categorical(y_train, num_classes = nb_classes)\n",
        "test_labels = to_categorical(y_test, num_classes = nb_classes)"
      ],
      "execution_count": null,
      "outputs": []
    },
    {
      "cell_type": "markdown",
      "metadata": {
        "id": "RxhdaU5b2yyq",
        "colab_type": "text"
      },
      "source": [
        "## **Model Architecture**"
      ]
    },
    {
      "cell_type": "code",
      "metadata": {
        "id": "cNvXYcvxf1_B",
        "colab_type": "code",
        "colab": {}
      },
      "source": [
        "model = Sequential()\n",
        "model.add(Dense(64, activation = \"relu\", input_shape = (num_words,)))\n",
        "model.add(Dropout(0.3))\n",
        "model.add(Dense(32, activation = \"relu\",))\n",
        "model.add(Dropout(0.3))\n",
        "model.add(Dense(nb_classes, activation=\"softmax\"))"
      ],
      "execution_count": null,
      "outputs": []
    },
    {
      "cell_type": "code",
      "metadata": {
        "id": "CH9-W13tgw5z",
        "colab_type": "code",
        "colab": {
          "base_uri": "https://localhost:8080/",
          "height": 334
        },
        "outputId": "cd5b59d0-911f-412c-dbcd-c0c19abb03d6"
      },
      "source": [
        "model.summary()"
      ],
      "execution_count": null,
      "outputs": [
        {
          "output_type": "stream",
          "text": [
            "Model: \"sequential\"\n",
            "_________________________________________________________________\n",
            "Layer (type)                 Output Shape              Param #   \n",
            "=================================================================\n",
            "dense (Dense)                (None, 64)                640064    \n",
            "_________________________________________________________________\n",
            "dropout (Dropout)            (None, 64)                0         \n",
            "_________________________________________________________________\n",
            "dense_1 (Dense)              (None, 32)                2080      \n",
            "_________________________________________________________________\n",
            "dropout_1 (Dropout)          (None, 32)                0         \n",
            "_________________________________________________________________\n",
            "dense_2 (Dense)              (None, 46)                1518      \n",
            "=================================================================\n",
            "Total params: 643,662\n",
            "Trainable params: 643,662\n",
            "Non-trainable params: 0\n",
            "_________________________________________________________________\n"
          ],
          "name": "stdout"
        }
      ]
    },
    {
      "cell_type": "code",
      "metadata": {
        "id": "jti66rrJg7Nb",
        "colab_type": "code",
        "colab": {}
      },
      "source": [
        "model.compile(optimizer='adam', loss=\"categorical_crossentropy\", metrics=[CategoricalAccuracy(name=\"categorical_accuracy\")])"
      ],
      "execution_count": null,
      "outputs": []
    },
    {
      "cell_type": "code",
      "metadata": {
        "id": "ynDSyKy_X6lZ",
        "colab_type": "code",
        "colab": {}
      },
      "source": [
        "# Early Stopping \n",
        "early_stop = EarlyStopping(monitor=\"val_loss\", patience=8, restore_best_weights=True)"
      ],
      "execution_count": null,
      "outputs": []
    },
    {
      "cell_type": "code",
      "metadata": {
        "id": "KXvWMa6ytzK8",
        "colab_type": "code",
        "colab": {
          "base_uri": "https://localhost:8080/",
          "height": 721
        },
        "outputId": "ee0774f9-d490-490c-b6ae-1bc63981efcc"
      },
      "source": [
        "history = model.fit(train_sequences, train_labels, validation_split=0.3, shuffle=True, epochs = nb_epochs, callbacks=[early_stop], class_weight = class_weights)"
      ],
      "execution_count": null,
      "outputs": [
        {
          "output_type": "stream",
          "text": [
            "Epoch 1/25\n",
            "172/172 [==============================] - 1s 8ms/step - loss: 3.6908 - categorical_accuracy: 0.3225 - val_loss: 2.6270 - val_categorical_accuracy: 0.6277\n",
            "Epoch 2/25\n",
            "172/172 [==============================] - 1s 7ms/step - loss: 3.0779 - categorical_accuracy: 0.5515 - val_loss: 2.0248 - val_categorical_accuracy: 0.7023\n",
            "Epoch 3/25\n",
            "172/172 [==============================] - 1s 7ms/step - loss: 2.3661 - categorical_accuracy: 0.5704 - val_loss: 1.7199 - val_categorical_accuracy: 0.7239\n",
            "Epoch 4/25\n",
            "172/172 [==============================] - 1s 7ms/step - loss: 1.7337 - categorical_accuracy: 0.6035 - val_loss: 1.3752 - val_categorical_accuracy: 0.7519\n",
            "Epoch 5/25\n",
            "172/172 [==============================] - 1s 7ms/step - loss: 1.3922 - categorical_accuracy: 0.6341 - val_loss: 1.2859 - val_categorical_accuracy: 0.7578\n",
            "Epoch 6/25\n",
            "172/172 [==============================] - 1s 7ms/step - loss: 1.1733 - categorical_accuracy: 0.6602 - val_loss: 1.3089 - val_categorical_accuracy: 0.7455\n",
            "Epoch 7/25\n",
            "172/172 [==============================] - 1s 7ms/step - loss: 0.9548 - categorical_accuracy: 0.6875 - val_loss: 1.2000 - val_categorical_accuracy: 0.7608\n",
            "Epoch 8/25\n",
            "172/172 [==============================] - 1s 7ms/step - loss: 0.7844 - categorical_accuracy: 0.7241 - val_loss: 1.1487 - val_categorical_accuracy: 0.7701\n",
            "Epoch 9/25\n",
            "172/172 [==============================] - 1s 7ms/step - loss: 0.7427 - categorical_accuracy: 0.7360 - val_loss: 1.1382 - val_categorical_accuracy: 0.7604\n",
            "Epoch 10/25\n",
            "172/172 [==============================] - 1s 7ms/step - loss: 0.7139 - categorical_accuracy: 0.7430 - val_loss: 1.1109 - val_categorical_accuracy: 0.7693\n",
            "Epoch 11/25\n",
            "172/172 [==============================] - 1s 7ms/step - loss: 0.6653 - categorical_accuracy: 0.7591 - val_loss: 1.0608 - val_categorical_accuracy: 0.7782\n",
            "Epoch 12/25\n",
            "172/172 [==============================] - 1s 7ms/step - loss: 0.5751 - categorical_accuracy: 0.7735 - val_loss: 1.0531 - val_categorical_accuracy: 0.7829\n",
            "Epoch 13/25\n",
            "172/172 [==============================] - 1s 7ms/step - loss: 0.5517 - categorical_accuracy: 0.7780 - val_loss: 1.0805 - val_categorical_accuracy: 0.7820\n",
            "Epoch 14/25\n",
            "172/172 [==============================] - 1s 7ms/step - loss: 0.4821 - categorical_accuracy: 0.8000 - val_loss: 1.0922 - val_categorical_accuracy: 0.7731\n",
            "Epoch 15/25\n",
            "172/172 [==============================] - 1s 7ms/step - loss: 0.4969 - categorical_accuracy: 0.8006 - val_loss: 1.0632 - val_categorical_accuracy: 0.7858\n",
            "Epoch 16/25\n",
            "172/172 [==============================] - 1s 7ms/step - loss: 0.4471 - categorical_accuracy: 0.8237 - val_loss: 1.1166 - val_categorical_accuracy: 0.7786\n",
            "Epoch 17/25\n",
            "172/172 [==============================] - 1s 7ms/step - loss: 0.4717 - categorical_accuracy: 0.8257 - val_loss: 1.0999 - val_categorical_accuracy: 0.7820\n",
            "Epoch 18/25\n",
            "172/172 [==============================] - 1s 8ms/step - loss: 0.3858 - categorical_accuracy: 0.8340 - val_loss: 1.1069 - val_categorical_accuracy: 0.7765\n",
            "Epoch 19/25\n",
            "172/172 [==============================] - 1s 7ms/step - loss: 0.3487 - categorical_accuracy: 0.8424 - val_loss: 1.1293 - val_categorical_accuracy: 0.7765\n",
            "Epoch 20/25\n",
            "172/172 [==============================] - 1s 7ms/step - loss: 0.4101 - categorical_accuracy: 0.8268 - val_loss: 1.1331 - val_categorical_accuracy: 0.7795\n"
          ],
          "name": "stdout"
        }
      ]
    },
    {
      "cell_type": "code",
      "metadata": {
        "id": "E-pKWI_Z_aX5",
        "colab_type": "code",
        "colab": {
          "base_uri": "https://localhost:8080/",
          "height": 313
        },
        "outputId": "5db38b34-7004-47e4-b3d3-d4ed428a8d27"
      },
      "source": [
        "# Accuracy values during training phase \n",
        "accuracy_plotter(history)"
      ],
      "execution_count": null,
      "outputs": [
        {
          "output_type": "display_data",
          "data": {
            "image/png": "[encoded data removed]",
            "text/plain": [
              "<Figure size 432x288 with 1 Axes>"
            ]
          },
          "metadata": {
            "tags": [],
            "needs_background": "light"
          }
        },
        {
          "output_type": "display_data",
          "data": {
            "text/plain": [
              "<Figure size 432x288 with 0 Axes>"
            ]
          },
          "metadata": {
            "tags": []
          }
        }
      ]
    },
    {
      "cell_type": "code",
      "metadata": {
        "id": "GLKAeSwb_eJs",
        "colab_type": "code",
        "colab": {
          "base_uri": "https://localhost:8080/",
          "height": 313
        },
        "outputId": "b470c26b-2be4-4f7a-979b-d8529f2cf919"
      },
      "source": [
        "# Loss values during training phase\n",
        "loss_plotter(history)"
      ],
      "execution_count": null,
      "outputs": [
        {
          "output_type": "display_data",
          "data": {
            "image/png": "[encoded data removed]",
            "text/plain": [
              "<Figure size 432x288 with 1 Axes>"
            ]
          },
          "metadata": {
            "tags": [],
            "needs_background": "light"
          }
        },
        {
          "output_type": "display_data",
          "data": {
            "text/plain": [
              "<Figure size 432x288 with 0 Axes>"
            ]
          },
          "metadata": {
            "tags": []
          }
        }
      ]
    },
    {
      "cell_type": "code",
      "metadata": {
        "id": "8RThrYIy_BTi",
        "colab_type": "code",
        "colab": {}
      },
      "source": [
        "y_pred = model.predict(test_sequences)"
      ],
      "execution_count": null,
      "outputs": []
    },
    {
      "cell_type": "code",
      "metadata": {
        "id": "9eZTQ92X_BeA",
        "colab_type": "code",
        "colab": {}
      },
      "source": [
        "precision = Precision()\n",
        "recall = Recall()\n",
        "auc = AUC(curve = \"PR\")\n",
        "precision.update_state(test_labels, y_pred)\n",
        "recall.update_state(test_labels, y_pred)\n",
        "auc.update_state(test_labels, y_pred)"
      ],
      "execution_count": null,
      "outputs": []
    },
    {
      "cell_type": "code",
      "metadata": {
        "id": "HnX8p4Hh_BQd",
        "colab_type": "code",
        "colab": {
          "base_uri": "https://localhost:8080/",
          "height": 105
        },
        "outputId": "d73963a5-9c52-4224-f160-afdd7ab1872a"
      },
      "source": [
        "_, acc = model.evaluate(test_sequences, test_labels)\n",
        "print(\"Accuracy on test set :\", round(acc*100, 3))\n",
        "print(\"Precision :\", precision.result().numpy())\n",
        "print(\"Recall :\", recall.result().numpy())\n",
        "print(\"Precision-Recall_AUC :\", auc.result().numpy())"
      ],
      "execution_count": null,
      "outputs": [
        {
          "output_type": "stream",
          "text": [
            "106/106 [==============================] - 0s 2ms/step - loss: 1.0777 - categorical_accuracy: 0.7869\n",
            "Accuracy on test set : 78.688\n",
            "Precision : 0.852199\n",
            "Recall : 0.7016919\n",
            "Precision-Recall_AUC : 0.78282315\n"
          ],
          "name": "stdout"
        }
      ]
    }
  ]
}
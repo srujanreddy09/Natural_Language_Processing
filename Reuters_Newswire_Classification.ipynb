{
  "nbformat": 4,
  "nbformat_minor": 0,
  "metadata": {
    "colab": {
      "name": "Reuters_Newswire_Classification.ipynb",
      "provenance": [],
      "collapsed_sections": []
    },
    "kernelspec": {
      "name": "python3",
      "display_name": "Python 3"
    },
    "accelerator": "TPU"
  },
  "cells": [
    {
      "cell_type": "markdown",
      "metadata": {
        "id": "ueHZyWdN2Tro",
        "colab_type": "text"
      },
      "source": [
        "## **Importing Modules**"
      ]
    },
    {
      "cell_type": "code",
      "metadata": {
        "id": "8r3-IG1xZNRU",
        "colab_type": "code",
        "colab": {
          "base_uri": "https://localhost:8080/",
          "height": 72
        },
        "outputId": "50817bee-63c3-4f11-9bfb-bdb36075f0de"
      },
      "source": [
        "import numpy as np\n",
        "from tensorflow.keras import regularizers\n",
        "from tensorflow.keras.metrics import Precision, Recall, CategoricalAccuracy, AUC\n",
        "from tensorflow.keras.layers import Dense, Dropout, LSTM, Embedding\n",
        "from tensorflow.keras.models import Sequential\n",
        "from tensorflow.keras.callbacks import EarlyStopping\n",
        "from tensorflow.keras.datasets import reuters\n",
        "from tensorflow.keras.preprocessing.sequence import pad_sequences\n",
        "from tensorflow.keras.preprocessing.text import Tokenizer\n",
        "from sklearn.model_selection import train_test_split\n",
        "from matplotlib import pyplot as plt\n",
        "import seaborn as sns\n",
        "import warnings\n",
        "warnings.filterwarnings('ignore')"
      ],
      "execution_count": 1,
      "outputs": [
        {
          "output_type": "stream",
          "text": [
            "/usr/local/lib/python3.6/dist-packages/statsmodels/tools/_testing.py:19: FutureWarning: pandas.util.testing is deprecated. Use the functions in the public API at pandas.testing instead.\n",
            "  import pandas.util.testing as tm\n"
          ],
          "name": "stderr"
        }
      ]
    },
    {
      "cell_type": "markdown",
      "metadata": {
        "id": "r2Cbeynh2Xeo",
        "colab_type": "text"
      },
      "source": [
        "## **Helper Functions**"
      ]
    },
    {
      "cell_type": "code",
      "metadata": {
        "id": "NPLRAynYctOs",
        "colab_type": "code",
        "colab": {}
      },
      "source": [
        "# For plotting accuracy during training phase\n",
        "def accuracy_plotter(history):\n",
        "    plt.plot(history.history['categorical_accuracy'])\n",
        "    plt.plot(history.history['val_categorical_accuracy'])\n",
        "    plt.title('Model Accuracy')\n",
        "    plt.ylabel('Accuracy')\n",
        "    plt.xlabel('Epoch')\n",
        "    plt.legend(['Train', 'Validation'], loc='upper left')\n",
        "    plt.show()\n",
        "    plt.clf()\n",
        "\n",
        "# For plotting loss during training phase\n",
        "def loss_plotter(history):\n",
        "    plt.plot(history.history['loss'])\n",
        "    plt.plot(history.history['val_loss'])\n",
        "    plt.title('Model Loss')\n",
        "    plt.ylabel('Loss')\n",
        "    plt.xlabel('Epoch')\n",
        "    plt.legend(['Train', 'Validation'], loc='upper left')\n",
        "    plt.show()\n",
        "    plt.clf()"
      ],
      "execution_count": 2,
      "outputs": []
    },
    {
      "cell_type": "code",
      "metadata": {
        "id": "Bgf7nii8dCJh",
        "colab_type": "code",
        "colab": {}
      },
      "source": [
        "# Parameters\n",
        "nb_epochs = 25\n",
        "num_words = 10000\n",
        "common_words = 10\n",
        "nb_classes = 46"
      ],
      "execution_count": 3,
      "outputs": []
    },
    {
      "cell_type": "markdown",
      "metadata": {
        "id": "ToQsKNvj2gUO",
        "colab_type": "text"
      },
      "source": [
        "## **Loading Data**"
      ]
    },
    {
      "cell_type": "code",
      "metadata": {
        "id": "HvRzdU5zdCOP",
        "colab_type": "code",
        "colab": {
          "base_uri": "https://localhost:8080/",
          "height": 52
        },
        "outputId": "d0f92429-2eec-44d4-91ca-c5bc7a73b466"
      },
      "source": [
        "# Choosing the top 10000 frequent words and skipping the top 15 common words \n",
        "(data, targets) = reuters.load_data(num_words=num_words, skip_top=common_words, test_split=0)[0]"
      ],
      "execution_count": 4,
      "outputs": [
        {
          "output_type": "stream",
          "text": [
            "Downloading data from https://storage.googleapis.com/tensorflow/tf-keras-datasets/reuters.npz\n",
            "2113536/2110848 [==============================] - 0s 0us/step\n"
          ],
          "name": "stdout"
        }
      ]
    },
    {
      "cell_type": "markdown",
      "metadata": {
        "id": "KhGa5VU22ohK",
        "colab_type": "text"
      },
      "source": [
        "## **Data Analysis**"
      ]
    },
    {
      "cell_type": "code",
      "metadata": {
        "id": "m7DS-3ROdCMF",
        "colab_type": "code",
        "colab": {
          "base_uri": "https://localhost:8080/",
          "height": 34
        },
        "outputId": "d8cfe1e6-22b9-4b8c-ddd4-89cdccad35f2"
      },
      "source": [
        "print(\"Shape of the data :\", data.shape)"
      ],
      "execution_count": 5,
      "outputs": [
        {
          "output_type": "stream",
          "text": [
            "Shape of the data : (11228,)\n"
          ],
          "name": "stdout"
        }
      ]
    },
    {
      "cell_type": "code",
      "metadata": {
        "id": "stG2OKcXdCG7",
        "colab_type": "code",
        "colab": {
          "base_uri": "https://localhost:8080/",
          "height": 52
        },
        "outputId": "e3d46860-3664-4d4a-ccc5-320d05e52112"
      },
      "source": [
        "print(\"Categories of the targets: \", np.unique(targets))"
      ],
      "execution_count": 6,
      "outputs": [
        {
          "output_type": "stream",
          "text": [
            "Categories of the targets:  [ 0  1  2  3  4  5  6  7  8  9 10 11 12 13 14 15 16 17 18 19 20 21 22 23\n",
            " 24 25 26 27 28 29 30 31 32 33 34 35 36 37 38 39 40 41 42 43 44 45]\n"
          ],
          "name": "stdout"
        }
      ]
    },
    {
      "cell_type": "code",
      "metadata": {
        "id": "yOCnnh_Keqee",
        "colab_type": "code",
        "colab": {
          "base_uri": "https://localhost:8080/",
          "height": 34
        },
        "outputId": "5aa369a7-98ee-44ec-e145-1ec61b824c6f"
      },
      "source": [
        "print(\"Number of unique words :\", len(np.unique(np.hstack(data))))"
      ],
      "execution_count": 7,
      "outputs": [
        {
          "output_type": "stream",
          "text": [
            "Number of unique words : 9991\n"
          ],
          "name": "stdout"
        }
      ]
    },
    {
      "cell_type": "code",
      "metadata": {
        "id": "KElKlNFPfN5R",
        "colab_type": "code",
        "colab": {
          "base_uri": "https://localhost:8080/",
          "height": 34
        },
        "outputId": "6b942516-e921-43c4-e136-0ae5207ffc66"
      },
      "source": [
        "print(\"Average length of a sentence\", np.mean([len(i) for i in data]))"
      ],
      "execution_count": 8,
      "outputs": [
        {
          "output_type": "stream",
          "text": [
            "Average length of a sentence 145.96419665122906\n"
          ],
          "name": "stdout"
        }
      ]
    },
    {
      "cell_type": "code",
      "metadata": {
        "id": "yLPOAtdJfRnu",
        "colab_type": "code",
        "colab": {
          "base_uri": "https://localhost:8080/",
          "height": 34
        },
        "outputId": "491e8770-6553-4301-924d-9f318f63eed6"
      },
      "source": [
        "print(\"Max length of a sentence : \", np.max([len(i) for i in data]))"
      ],
      "execution_count": 9,
      "outputs": [
        {
          "output_type": "stream",
          "text": [
            "Max length of a sentence :  2376\n"
          ],
          "name": "stdout"
        }
      ]
    },
    {
      "cell_type": "code",
      "metadata": {
        "id": "YyF5N3Fw4nEg",
        "colab_type": "code",
        "colab": {
          "base_uri": "https://localhost:8080/",
          "height": 52
        },
        "outputId": "66554896-6e92-4edc-cafa-89b6365d23d4"
      },
      "source": [
        "# Retrieving the word_index dictionary\n",
        "word_dict = {value:key for (key, value) in reuters.get_word_index().items()}"
      ],
      "execution_count": 10,
      "outputs": [
        {
          "output_type": "stream",
          "text": [
            "Downloading data from https://storage.googleapis.com/tensorflow/tf-keras-datasets/reuters_word_index.json\n",
            "557056/550378 [==============================] - 0s 0us/step\n"
          ],
          "name": "stdout"
        }
      ]
    },
    {
      "cell_type": "code",
      "metadata": {
        "id": "5O64Fofp3LeC",
        "colab_type": "code",
        "colab": {
          "base_uri": "https://localhost:8080/",
          "height": 72
        },
        "outputId": "8728a1e5-e234-4cbe-9ad5-8b01f7a2ab93"
      },
      "source": [
        "# An example newswire\n",
        "print(' '.join([word_dict[x] for x in data[22]]))\n",
        "print(targets[22])"
      ],
      "execution_count": 11,
      "outputs": [
        {
          "output_type": "stream",
          "text": [
            "of of profit of 1 75 of not concern government member be name incorporation profits on tonnes of this oper 10 of commodities of reserve not whether profits on tonnes of of of council gross of yields finance its all also is of sources 4 is of an source of of this rose billion trade vs 000 of this of of commodities or of agreement of around against should with shareholders total 000 april 0 of oper 10 conference of of pct dlrs\n",
            "4\n"
          ],
          "name": "stdout"
        }
      ]
    },
    {
      "cell_type": "code",
      "metadata": {
        "id": "pIc8-GrfDUT7",
        "colab_type": "code",
        "colab": {
          "base_uri": "https://localhost:8080/",
          "height": 282
        },
        "outputId": "2ec9f563-7e35-4c5f-9852-37c8be240ec6"
      },
      "source": [
        "#Check if the data is imbalanced\n",
        "sns.distplot(targets)"
      ],
      "execution_count": 12,
      "outputs": [
        {
          "output_type": "execute_result",
          "data": {
            "text/plain": [
              "<matplotlib.axes._subplots.AxesSubplot at 0x7fcfbcabfc88>"
            ]
          },
          "metadata": {
            "tags": []
          },
          "execution_count": 12
        },
        {
          "output_type": "display_data",
          "data": {
            "image/png": "[encoded data removed]",
            "text/plain": [
              "<Figure size 432x288 with 1 Axes>"
            ]
          },
          "metadata": {
            "tags": [],
            "needs_background": "light"
          }
        }
      ]
    },
    {
      "cell_type": "markdown",
      "metadata": {
        "id": "L3m6uGfZkaVr",
        "colab_type": "text"
      },
      "source": [
        "The data is imbalanced as the number of examples belonging to one class are much larger that of the other classes. Accuracy is not a good measure to evaluate our model. Instead Precision_Recall-AUC will help us better understand the performance of our model. A high AUC represents both high recall and high precision which shows that the classifier is returning accurate results (high precision), as well as returning a majority of all positive results (high recall).\n",
        "Furthermore, to balance the data, I am going to oversample the data using the smote method."
      ]
    },
    {
      "cell_type": "markdown",
      "metadata": {
        "id": "nQIIJ3SU2s7G",
        "colab_type": "text"
      },
      "source": [
        "## **Data Preprocessing**"
      ]
    },
    {
      "cell_type": "code",
      "metadata": {
        "id": "Ii3WIyLgffoM",
        "colab_type": "code",
        "colab": {}
      },
      "source": [
        "# Splitting into train and test data\n",
        "x_train, x_test, y_train, y_test = train_test_split(data, targets, test_size=0.3, random_state=42)"
      ],
      "execution_count": 13,
      "outputs": []
    },
    {
      "cell_type": "code",
      "metadata": {
        "id": "XUAmVQ5QuGeR",
        "colab_type": "code",
        "colab": {}
      },
      "source": [
        "# Tokenizing the sequences\n",
        "tokenizer = Tokenizer(num_words=num_words, oov_token=\"oov_tok\")\n",
        "tokenizer.fit_on_sequences(x_train)\n",
        "word_index = tokenizer.word_index"
      ],
      "execution_count": 14,
      "outputs": []
    },
    {
      "cell_type": "code",
      "metadata": {
        "id": "15ccPQmfvkHM",
        "colab_type": "code",
        "colab": {}
      },
      "source": [
        "# Fitting the sequences on the tokenizer\n",
        "train_sequences = tokenizer.sequences_to_matrix(x_train, mode = \"binary\")\n",
        "test_sequences = tokenizer.sequences_to_matrix(x_test, mode = \"binary\")"
      ],
      "execution_count": 15,
      "outputs": []
    },
    {
      "cell_type": "code",
      "metadata": {
        "id": "XhMi8camwPax",
        "colab_type": "code",
        "colab": {
          "base_uri": "https://localhost:8080/",
          "height": 52
        },
        "outputId": "9fd3cb79-d4a4-40c1-b7db-8a3b67374e14"
      },
      "source": [
        "print(\"Shape of vectorized sequences :\", train_sequences.shape)\n",
        "print(\"Shape of targets :\", y_train.shape)"
      ],
      "execution_count": 16,
      "outputs": [
        {
          "output_type": "stream",
          "text": [
            "Shape of vectorized sequences : (7859, 10000)\n",
            "Shape of targets : (7859,)\n"
          ],
          "name": "stdout"
        }
      ]
    },
    {
      "cell_type": "markdown",
      "metadata": {
        "id": "YR3f9mQa8haS",
        "colab_type": "text"
      },
      "source": [
        "## **Balancing the dataset**"
      ]
    },
    {
      "cell_type": "code",
      "metadata": {
        "id": "JzYPJHGhlcK1",
        "colab_type": "code",
        "colab": {}
      },
      "source": [
        "from imblearn.over_sampling import SMOTE\n",
        "smote = SMOTE(\"not majority\")\n",
        "train_sequences_sm, y_train_sm = smote.fit_resample(train_sequences, y_train)"
      ],
      "execution_count": null,
      "outputs": []
    },
    {
      "cell_type": "code",
      "metadata": {
        "id": "TbbwtoTWmiiC",
        "colab_type": "code",
        "colab": {}
      },
      "source": [
        "# After upsampling\n",
        "print(\"Shape of vectorized sequences :\", train_sequences_sm.shape)\n",
        "print(\"Shape of targets :\", y_train_sm.shape)"
      ],
      "execution_count": null,
      "outputs": []
    },
    {
      "cell_type": "code",
      "metadata": {
        "id": "ywNX13KmTd3r",
        "colab_type": "code",
        "colab": {}
      },
      "source": [
        "sns.distplot(y_train_sm)"
      ],
      "execution_count": null,
      "outputs": []
    },
    {
      "cell_type": "code",
      "metadata": {
        "id": "6-woMWNIfx21",
        "colab_type": "code",
        "colab": {}
      },
      "source": [
        "# One hot encoding targets\n",
        "from keras.utils import to_categorical\n",
        "train_labels = to_categorical(y_train_sm, num_classes = nb_classes)\n",
        "test_labels = to_categorical(y_test, num_classes = nb_classes)"
      ],
      "execution_count": null,
      "outputs": []
    },
    {
      "cell_type": "markdown",
      "metadata": {
        "id": "RxhdaU5b2yyq",
        "colab_type": "text"
      },
      "source": [
        "## **Model Architecture**"
      ]
    },
    {
      "cell_type": "code",
      "metadata": {
        "id": "cNvXYcvxf1_B",
        "colab_type": "code",
        "colab": {}
      },
      "source": [
        "def get_model():\n",
        "  model = Sequential()\n",
        "  model.add(Embedding(input_dim = 10000, output_dim = 64, max))\n",
        "  model.add(Dense(64, activation = \"relu\", input_shape = (num_words,)))\n",
        "  model.add(Dropout(0.3))\n",
        "  model.add(Dense(32, activation = \"relu\"))\n",
        "  model.add(Dropout(0.3))\n",
        "  model.add(Dense(nb_classes, activation=\"softmax\"))\n",
        "  return model"
      ],
      "execution_count": null,
      "outputs": []
    },
    {
      "cell_type": "code",
      "metadata": {
        "id": "7bC9Q_iv-V2k",
        "colab_type": "code",
        "colab": {}
      },
      "source": [
        "model = get_model()"
      ],
      "execution_count": null,
      "outputs": []
    },
    {
      "cell_type": "code",
      "metadata": {
        "id": "CH9-W13tgw5z",
        "colab_type": "code",
        "colab": {}
      },
      "source": [
        "model.summary()"
      ],
      "execution_count": null,
      "outputs": []
    },
    {
      "cell_type": "code",
      "metadata": {
        "id": "jti66rrJg7Nb",
        "colab_type": "code",
        "colab": {}
      },
      "source": [
        "model.compile(optimizer='adam', loss=\"categorical_crossentropy\", metrics=[CategoricalAccuracy(name=\"categorical_accuracy\")])"
      ],
      "execution_count": null,
      "outputs": []
    },
    {
      "cell_type": "code",
      "metadata": {
        "id": "KXvWMa6ytzK8",
        "colab_type": "code",
        "colab": {}
      },
      "source": [
        "history = model.fit(train_sequences_sm, train_labels_sm, validation_split=0.3, shuffle=True, epochs = nb_epochs, callbacks=[early_stop])"
      ],
      "execution_count": null,
      "outputs": []
    },
    {
      "cell_type": "code",
      "metadata": {
        "id": "E-pKWI_Z_aX5",
        "colab_type": "code",
        "colab": {}
      },
      "source": [
        "accuracy_plotter(history)"
      ],
      "execution_count": null,
      "outputs": []
    },
    {
      "cell_type": "code",
      "metadata": {
        "id": "GLKAeSwb_eJs",
        "colab_type": "code",
        "colab": {}
      },
      "source": [
        "loss_plotter(history)"
      ],
      "execution_count": null,
      "outputs": []
    },
    {
      "cell_type": "code",
      "metadata": {
        "id": "7vIyKRzH-xsE",
        "colab_type": "code",
        "colab": {}
      },
      "source": [
        "model.metrics_names"
      ],
      "execution_count": null,
      "outputs": []
    },
    {
      "cell_type": "code",
      "metadata": {
        "id": "lgJL-hV2-xmc",
        "colab_type": "code",
        "colab": {}
      },
      "source": [
        "_, acc = model.evaluate(test_sequences, test_labels)\n",
        "print(\"Accuracy on test set :\", round(acc*100, 3))"
      ],
      "execution_count": null,
      "outputs": []
    },
    {
      "cell_type": "code",
      "metadata": {
        "id": "8RThrYIy_BTi",
        "colab_type": "code",
        "colab": {}
      },
      "source": [
        "y_pred = model.predict(test_sequences)"
      ],
      "execution_count": null,
      "outputs": []
    },
    {
      "cell_type": "code",
      "metadata": {
        "id": "9eZTQ92X_BeA",
        "colab_type": "code",
        "colab": {}
      },
      "source": [
        "precision.update_state(test_labels, y_pred\n",
        "recall.update_state(test_labels, y_pred)\n",
        "auc.update_state(test_labels, y_pred)"
      ],
      "execution_count": null,
      "outputs": []
    },
    {
      "cell_type": "code",
      "metadata": {
        "id": "HnX8p4Hh_BQd",
        "colab_type": "code",
        "colab": {}
      },
      "source": [
        "print(\"Precision :\", precision.result().numpy())\n",
        "print(\"Recall :\", recall.result().numpy())\n",
        "print(\"AUC :\", auc.result().numpy())"
      ],
      "execution_count": null,
      "outputs": []
    },
    {
      "cell_type": "code",
      "metadata": {
        "id": "j6VRu8DMAE98",
        "colab_type": "code",
        "colab": {}
      },
      "source": [
        "from sklearn.metrics import confusion_matrix\n",
        "cm = confusion_matrix(test_labels.argmax(axis=1), y_pred.argmax(axis = 1))"
      ],
      "execution_count": null,
      "outputs": []
    },
    {
      "cell_type": "code",
      "metadata": {
        "id": "hAU82ByXFfvZ",
        "colab_type": "code",
        "colab": {}
      },
      "source": [
        "fig = plt.figure()\n",
        "ax = fig.add_subplot(111)\n",
        "cax = ax.matshow(cm)\n",
        "plt.title('Confusion matrix of the classifier')\n",
        "fig.colorbar(cax)\n",
        "plt.xlabel('Predicted')\n",
        "plt.ylabel('True')\n",
        "plt.show()"
      ],
      "execution_count": null,
      "outputs": []
    },
    {
      "cell_type": "code",
      "metadata": {
        "id": "C1QXNwIKGcin",
        "colab_type": "code",
        "colab": {}
      },
      "source": [
        ""
      ],
      "execution_count": null,
      "outputs": []
    }
  ]
}
{
  "nbformat": 4,
  "nbformat_minor": 0,
  "metadata": {
    "colab": {
      "name": "Imdb_Sentiment_Classification.ipynb",
      "provenance": [],
      "collapsed_sections": [],
      "authorship_tag": "ABX9TyNLlJFAha4KKy3naKxqf8GK",
      "include_colab_link": true
    },
    "kernelspec": {
      "name": "python3",
      "display_name": "Python 3"
    },
    "accelerator": "GPU"
  },
  "cells": [
    {
      "cell_type": "markdown",
      "metadata": {
        "id": "view-in-github",
        "colab_type": "text"
      },
      "source": [
        "<a href=\"https://colab.research.google.com/github/srujanreddy09/Natural_Language_Processing/blob/master/Imdb_Sentiment_Classification.ipynb\" target=\"_parent\"><img src=\"https://colab.research.google.com/assets/colab-badge.svg\" alt=\"Open In Colab\"/></a>"
      ]
    },
    {
      "cell_type": "markdown",
      "metadata": {
        "id": "k9MXQfH8riow",
        "colab_type": "text"
      },
      "source": [
        "## **Importing Modules**"
      ]
    },
    {
      "cell_type": "code",
      "metadata": {
        "id": "It1BhkeYa2J0",
        "colab_type": "code",
        "colab": {
          "base_uri": "https://localhost:8080/",
          "height": 34
        },
        "outputId": "43ca4103-e66c-4e2d-93d4-cffc1584020b"
      },
      "source": [
        "import numpy as np\n",
        "from tensorflow import keras\n",
        "from keras.layers import Dense, Dropout, Conv1D, Embedding, GlobalAveragePooling1D\n",
        "from keras.models import Sequential\n",
        "from keras import regularizers\n",
        "from keras.callbacks import EarlyStopping\n",
        "from keras.datasets import imdb\n",
        "from keras.preprocessing.sequence import pad_sequences\n",
        "from sklearn.model_selection import train_test_split\n",
        "from matplotlib import pyplot as plt"
      ],
      "execution_count": 1,
      "outputs": [
        {
          "output_type": "stream",
          "text": [
            "Using TensorFlow backend.\n"
          ],
          "name": "stderr"
        }
      ]
    },
    {
      "cell_type": "markdown",
      "metadata": {
        "id": "O877EtOQtK47",
        "colab_type": "text"
      },
      "source": [
        "## **Helper Function**"
      ]
    },
    {
      "cell_type": "code",
      "metadata": {
        "id": "OV0mIFnAtN51",
        "colab_type": "code",
        "colab": {}
      },
      "source": [
        "# For plotting accuracy during training phase\n",
        "def accuracy_plotter(history):\n",
        "    plt.plot(history.history['accuracy'])\n",
        "    plt.plot(history.history['val_accuracy'])\n",
        "    plt.title('Model Accuracy')\n",
        "    plt.ylabel('Accuracy')\n",
        "    plt.xlabel('Epoch')\n",
        "    plt.legend(['Train', 'Validation'], loc='upper left')\n",
        "    plt.show()\n",
        "    plt.clf()\n",
        "\n",
        "# For plotting loss during training phase\n",
        "def loss_plotter(history):\n",
        "    plt.plot(history.history['loss'])\n",
        "    plt.plot(history.history['val_loss'])\n",
        "    plt.title('Model Loss')\n",
        "    plt.ylabel('Loss')\n",
        "    plt.xlabel('Epoch')\n",
        "    plt.legend(['Train', 'Validation'], loc='upper left')\n",
        "    plt.show()\n",
        "    plt.clf()"
      ],
      "execution_count": 2,
      "outputs": []
    },
    {
      "cell_type": "markdown",
      "metadata": {
        "id": "opPwrl_Frl6w",
        "colab_type": "text"
      },
      "source": [
        "## **Setting Parameter**"
      ]
    },
    {
      "cell_type": "code",
      "metadata": {
        "id": "RncfEbRGhkvy",
        "colab_type": "code",
        "colab": {}
      },
      "source": [
        "# Number of most common words to use in the IMDB dataset\n",
        "num_words = 10000\n",
        "# Number of epochs\n",
        "nb_epochs = 25"
      ],
      "execution_count": 3,
      "outputs": []
    },
    {
      "cell_type": "markdown",
      "metadata": {
        "id": "9qBqNNV3rzrR",
        "colab_type": "text"
      },
      "source": [
        "## **Loading the Data**"
      ]
    },
    {
      "cell_type": "code",
      "metadata": {
        "id": "rgqmMcFcbyYO",
        "colab_type": "code",
        "colab": {}
      },
      "source": [
        "(x_train, y_train), (x_test, y_test) = imdb.load_data(num_words = num_words)"
      ],
      "execution_count": 4,
      "outputs": []
    },
    {
      "cell_type": "code",
      "metadata": {
        "id": "nkJgCaVirXKn",
        "colab_type": "code",
        "colab": {}
      },
      "source": [
        "data = np.concatenate((x_train, x_test), axis=0)\n",
        "targets = np.concatenate((y_train, y_test), axis=0)"
      ],
      "execution_count": 5,
      "outputs": []
    },
    {
      "cell_type": "markdown",
      "metadata": {
        "id": "LGwpgyTur_eO",
        "colab_type": "text"
      },
      "source": [
        "## **Data Analysis**"
      ]
    },
    {
      "cell_type": "code",
      "metadata": {
        "id": "0V8PA4u6rXBq",
        "colab_type": "code",
        "colab": {
          "base_uri": "https://localhost:8080/",
          "height": 34
        },
        "outputId": "61f6c9b2-812c-4ee4-9828-ab5128291f00"
      },
      "source": [
        "print(\"All categories of sentiment\", np.unique(targets))"
      ],
      "execution_count": 6,
      "outputs": [
        {
          "output_type": "stream",
          "text": [
            "All categories of sentiment [0 1]\n"
          ],
          "name": "stdout"
        }
      ]
    },
    {
      "cell_type": "code",
      "metadata": {
        "id": "aNjI-2cKskCs",
        "colab_type": "code",
        "colab": {
          "base_uri": "https://localhost:8080/",
          "height": 34
        },
        "outputId": "d4e5004b-7a7e-47c3-f19b-f4cd57d1eeaf"
      },
      "source": [
        "print(\"Number of unique words:\", len(np.unique(np.hstack(data))))"
      ],
      "execution_count": 7,
      "outputs": [
        {
          "output_type": "stream",
          "text": [
            "Number of unique words: 9998\n"
          ],
          "name": "stdout"
        }
      ]
    },
    {
      "cell_type": "code",
      "metadata": {
        "id": "dz5byxGfjwCK",
        "colab_type": "code",
        "colab": {
          "base_uri": "https://localhost:8080/",
          "height": 34
        },
        "outputId": "0af0f7c1-8041-474b-8c49-7a24afd04d20"
      },
      "source": [
        "print(\"Average length of a sentence\", np.mean([len(i) for i in data]))"
      ],
      "execution_count": 8,
      "outputs": [
        {
          "output_type": "stream",
          "text": [
            "Average length of a sentence 234.75892\n"
          ],
          "name": "stdout"
        }
      ]
    },
    {
      "cell_type": "code",
      "metadata": {
        "id": "PvogtRAvowun",
        "colab_type": "code",
        "colab": {
          "base_uri": "https://localhost:8080/",
          "height": 34
        },
        "outputId": "c581eb6c-5d03-466e-b0d0-584ca8a6c192"
      },
      "source": [
        "print(\"Max length of a sentence : \", np.max([len(i) for i in data]))"
      ],
      "execution_count": 9,
      "outputs": [
        {
          "output_type": "stream",
          "text": [
            "Max length of a sentence :  2494\n"
          ],
          "name": "stdout"
        }
      ]
    },
    {
      "cell_type": "markdown",
      "metadata": {
        "id": "tUkKYfUCsowg",
        "colab_type": "text"
      },
      "source": [
        "## **Data Preprocessing**"
      ]
    },
    {
      "cell_type": "code",
      "metadata": {
        "id": "r1pZELabpw8Y",
        "colab_type": "code",
        "colab": {}
      },
      "source": [
        "# Padding the sequences to be of the same lenght - 500\n",
        "data = pad_sequences(data, maxlen=500)"
      ],
      "execution_count": 10,
      "outputs": []
    },
    {
      "cell_type": "code",
      "metadata": {
        "id": "dYrlX8IItyGp",
        "colab_type": "code",
        "colab": {}
      },
      "source": [
        "targets = np.array(targets).astype(\"float32\")"
      ],
      "execution_count": 11,
      "outputs": []
    },
    {
      "cell_type": "code",
      "metadata": {
        "id": "LySjJDXZtjU7",
        "colab_type": "code",
        "colab": {}
      },
      "source": [
        "\n",
        "x_train, x_test, y_train, y_test = train_test_split(data, targets, test_size=0.3, random_state=42)"
      ],
      "execution_count": 12,
      "outputs": []
    },
    {
      "cell_type": "markdown",
      "metadata": {
        "id": "iwuUgMw9uZSj",
        "colab_type": "text"
      },
      "source": [
        "## **Model Architecture**"
      ]
    },
    {
      "cell_type": "code",
      "metadata": {
        "id": "weuGKgLthIYV",
        "colab_type": "code",
        "colab": {}
      },
      "source": [
        "model = Sequential(name = \"Sequential_Model\")\n",
        "model.add(Embedding(num_words, 32, input_length = 500, name = \"Embedding_Layer\"))\n",
        "model.add(Conv1D(filters = 32, kernel_size = 3, padding = \"same\", name = \"Conv1D\"))\n",
        "model.add(Dropout(0.5, name = \"DO_1\"))\n",
        "model.add(GlobalAveragePooling1D(name = \"Glob_Avg_Pool\"))\n",
        "model.add(Dense(16, activation=\"relu\", name = \"Dense_1\", kernel_regularizer=regularizers.l2(0.005)))\n",
        "model.add(Dropout(0.5, name = \"DO_2\"))\n",
        "model.add(Dense(1, name = \"Output_layer\", activation = \"sigmoid\"))"
      ],
      "execution_count": 13,
      "outputs": []
    },
    {
      "cell_type": "code",
      "metadata": {
        "id": "pqFTuuVpi0L6",
        "colab_type": "code",
        "colab": {
          "base_uri": "https://localhost:8080/",
          "height": 404
        },
        "outputId": "f5cf6c0c-c662-440c-ab3d-6e55b40e4286"
      },
      "source": [
        "model.summary()"
      ],
      "execution_count": 14,
      "outputs": [
        {
          "output_type": "stream",
          "text": [
            "Model: \"Sequential_Model\"\n",
            "_________________________________________________________________\n",
            "Layer (type)                 Output Shape              Param #   \n",
            "=================================================================\n",
            "Embedding_Layer (Embedding)  (None, 500, 32)           320000    \n",
            "_________________________________________________________________\n",
            "Conv1D (Conv1D)              (None, 500, 32)           3104      \n",
            "_________________________________________________________________\n",
            "DO_1 (Dropout)               (None, 500, 32)           0         \n",
            "_________________________________________________________________\n",
            "Glob_Avg_Pool (GlobalAverage (None, 32)                0         \n",
            "_________________________________________________________________\n",
            "Dense_1 (Dense)              (None, 16)                528       \n",
            "_________________________________________________________________\n",
            "DO_2 (Dropout)               (None, 16)                0         \n",
            "_________________________________________________________________\n",
            "Output_layer (Dense)         (None, 1)                 17        \n",
            "=================================================================\n",
            "Total params: 323,649\n",
            "Trainable params: 323,649\n",
            "Non-trainable params: 0\n",
            "_________________________________________________________________\n"
          ],
          "name": "stdout"
        }
      ]
    },
    {
      "cell_type": "code",
      "metadata": {
        "id": "6Uhc4vBei8ro",
        "colab_type": "code",
        "colab": {}
      },
      "source": [
        "model.compile(optimizer='adam', loss=\"binary_crossentropy\", metrics=['accuracy'])"
      ],
      "execution_count": 15,
      "outputs": []
    },
    {
      "cell_type": "markdown",
      "metadata": {
        "id": "ThyYqULHXZUr",
        "colab_type": "text"
      },
      "source": [
        "## **Training the Model**"
      ]
    },
    {
      "cell_type": "code",
      "metadata": {
        "id": "Hoa7efiHjVAk",
        "colab_type": "code",
        "colab": {}
      },
      "source": [
        "# Early Stopping to prevent overfitting\n",
        "early_stop = EarlyStopping(monitor=\"val_loss\", patience=3, restore_best_weights=True)"
      ],
      "execution_count": 16,
      "outputs": []
    },
    {
      "cell_type": "code",
      "metadata": {
        "id": "c3ptOXUGjFIQ",
        "colab_type": "code",
        "colab": {
          "base_uri": "https://localhost:8080/",
          "height": 301
        },
        "outputId": "41084324-2f22-4b47-c879-7ec991483f4c"
      },
      "source": [
        "# Fitting the Model\n",
        "history = model.fit(x_train, y_train, validation_split=0.3, shuffle=True, epochs = nb_epochs, callbacks=[early_stop])"
      ],
      "execution_count": 17,
      "outputs": [
        {
          "output_type": "stream",
          "text": [
            "/usr/local/lib/python3.6/dist-packages/tensorflow/python/framework/indexed_slices.py:434: UserWarning: Converting sparse IndexedSlices to a dense Tensor of unknown shape. This may consume a large amount of memory.\n",
            "  \"Converting sparse IndexedSlices to a dense Tensor of unknown shape. \"\n"
          ],
          "name": "stderr"
        },
        {
          "output_type": "stream",
          "text": [
            "Train on 24500 samples, validate on 10500 samples\n",
            "Epoch 1/25\n",
            "24500/24500 [==============================] - 8s 315us/step - loss: 0.5392 - accuracy: 0.7412 - val_loss: 0.3297 - val_accuracy: 0.8835\n",
            "Epoch 2/25\n",
            "24500/24500 [==============================] - 6s 257us/step - loss: 0.3044 - accuracy: 0.8977 - val_loss: 0.2994 - val_accuracy: 0.8851\n",
            "Epoch 3/25\n",
            "24500/24500 [==============================] - 6s 264us/step - loss: 0.2525 - accuracy: 0.9184 - val_loss: 0.2982 - val_accuracy: 0.8909\n",
            "Epoch 4/25\n",
            "24500/24500 [==============================] - 6s 258us/step - loss: 0.2171 - accuracy: 0.9333 - val_loss: 0.3326 - val_accuracy: 0.8788\n",
            "Epoch 5/25\n",
            "24500/24500 [==============================] - 6s 262us/step - loss: 0.1883 - accuracy: 0.9451 - val_loss: 0.3705 - val_accuracy: 0.8753\n",
            "Epoch 6/25\n",
            "24500/24500 [==============================] - 6s 256us/step - loss: 0.1722 - accuracy: 0.9508 - val_loss: 0.3542 - val_accuracy: 0.8818\n"
          ],
          "name": "stdout"
        }
      ]
    },
    {
      "cell_type": "markdown",
      "metadata": {
        "id": "44oRe_v5YNq9",
        "colab_type": "text"
      },
      "source": [
        "## **Accuracy and Loss values during the training phase**"
      ]
    },
    {
      "cell_type": "code",
      "metadata": {
        "id": "Jp3xu1bfLA9b",
        "colab_type": "code",
        "colab": {
          "base_uri": "https://localhost:8080/",
          "height": 313
        },
        "outputId": "6fc20b51-a510-4e12-bb6c-d28573a499ff"
      },
      "source": [
        "# Train and Validation accuracy vs Epochs\n",
        "accuracy_plotter(history)"
      ],
      "execution_count": 18,
      "outputs": [
        {
          "output_type": "display_data",
          "data": {
            "image/png": "[encoded data removed]",
            "text/plain": [
              "<Figure size 432x288 with 1 Axes>"
            ]
          },
          "metadata": {
            "tags": [],
            "needs_background": "light"
          }
        },
        {
          "output_type": "display_data",
          "data": {
            "text/plain": [
              "<Figure size 432x288 with 0 Axes>"
            ]
          },
          "metadata": {
            "tags": []
          }
        }
      ]
    },
    {
      "cell_type": "code",
      "metadata": {
        "id": "3ff6pP1OLPiS",
        "colab_type": "code",
        "colab": {
          "base_uri": "https://localhost:8080/",
          "height": 313
        },
        "outputId": "6bd3ca17-e600-46e2-acd1-ee6db328aad7"
      },
      "source": [
        "# Train and Validation loss vs Epochs\n",
        "loss_plotter(history)"
      ],
      "execution_count": 19,
      "outputs": [
        {
          "output_type": "display_data",
          "data": {
            "image/png": "[encoded data removed]",
            "text/plain": [
              "<Figure size 432x288 with 1 Axes>"
            ]
          },
          "metadata": {
            "tags": [],
            "needs_background": "light"
          }
        },
        {
          "output_type": "display_data",
          "data": {
            "text/plain": [
              "<Figure size 432x288 with 0 Axes>"
            ]
          },
          "metadata": {
            "tags": []
          }
        }
      ]
    },
    {
      "cell_type": "markdown",
      "metadata": {
        "id": "Y-SkyE9dXskB",
        "colab_type": "text"
      },
      "source": [
        "## **Evaluating the model on test data**"
      ]
    },
    {
      "cell_type": "code",
      "metadata": {
        "id": "yIyhcaV7jnEa",
        "colab_type": "code",
        "colab": {
          "base_uri": "https://localhost:8080/",
          "height": 52
        },
        "outputId": "ae0479a3-e4e7-497c-f08d-8b24a2a78a74"
      },
      "source": [
        "_, acc = model.evaluate(x_test, y_test)\n",
        "print(\"Accuracy on test set :\", round(acc*100, 3))"
      ],
      "execution_count": 20,
      "outputs": [
        {
          "output_type": "stream",
          "text": [
            "15000/15000 [==============================] - 1s 81us/step\n",
            "Accuracy on test set : 89.58\n"
          ],
          "name": "stdout"
        }
      ]
    }
  ]
}